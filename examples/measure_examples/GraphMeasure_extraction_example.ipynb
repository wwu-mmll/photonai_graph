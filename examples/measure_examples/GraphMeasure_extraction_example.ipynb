{
 "cells": [
  {
   "cell_type": "markdown",
   "metadata": {
    "collapsed": true
   },
   "source": [
    "# Graph Measure extraction example\n",
    "This example will show you how to save the graph measurement results as CSV file."
   ]
  },
  {
   "cell_type": "code",
   "execution_count": 1,
   "metadata": {},
   "outputs": [
    {
     "name": "stderr",
     "output_type": "stream",
     "text": [
      "Using backend: pytorch\n"
     ]
    }
   ],
   "source": [
    "import numpy as np\n",
    "\n",
    "from photonai_graph.GraphUtilities import get_random_connectivity_data\n",
    "from photonai_graph.GraphMeasureTransform import GraphMeasureTransform\n",
    "from photonai_graph.GraphConstruction.graph_constructor_threshold import GraphConstructorThreshold"
   ]
  },
  {
   "cell_type": "markdown",
   "metadata": {},
   "source": [
    "Generate random matrices to simulate connectivity matrices"
   ]
  },
  {
   "cell_type": "code",
   "execution_count": 2,
   "metadata": {},
   "outputs": [],
   "source": [
    "X = get_random_connectivity_data(number_of_nodes=50, number_of_individuals=200)"
   ]
  },
  {
   "cell_type": "markdown",
   "metadata": {},
   "source": [
    "Instantiate a constructor to threshold the graphs"
   ]
  },
  {
   "cell_type": "code",
   "execution_count": 3,
   "metadata": {},
   "outputs": [],
   "source": [
    "g_constructor = GraphConstructorThreshold(threshold=0.95)"
   ]
  },
  {
   "cell_type": "markdown",
   "metadata": {},
   "source": [
    "Instantiate the measure_transformer"
   ]
  },
  {
   "cell_type": "code",
   "execution_count": 4,
   "metadata": {},
   "outputs": [],
   "source": [
    "g_measure_transformer = GraphMeasureTransform(graph_functions={\"global_efficiency\": {},\n",
    "                                                               \"local_efficiency\": {},\n",
    "                                                               \"average_clustering\": {},\n",
    "                                                               \"degree_centrality\": {},\n",
    "                                                               \"betweenness_centrality\": {},\n",
    "                                                               \"overall_reciprocity\": {}})\n",
    "\n",
    "X_trans = g_constructor.transform(X)\n",
    "\n",
    "g_measure_transformer.extract_measures(X_trans, path=\"test_measures.csv\", ids=np.arange(200))"
   ]
  },
  {
   "cell_type": "markdown",
   "metadata": {},
   "source": [
    "This will generate an example CSV file containing the measurement results for each graph."
   ]
  }
 ],
 "metadata": {
  "kernelspec": {
   "display_name": "Python 3 (ipykernel)",
   "language": "python",
   "name": "python3"
  },
  "language_info": {
   "codemirror_mode": {
    "name": "ipython",
    "version": 3
   },
   "file_extension": ".py",
   "mimetype": "text/x-python",
   "name": "python",
   "nbconvert_exporter": "python",
   "pygments_lexer": "ipython3",
   "version": "3.9.7"
  }
 },
 "nbformat": 4,
 "nbformat_minor": 1
}