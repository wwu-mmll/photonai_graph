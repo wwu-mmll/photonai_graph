{
 "cells": [
  {
   "cell_type": "markdown",
   "metadata": {},
   "source": [
    "# Networkx example\n",
    "\n",
    "This Example will show you step by step, how to use networkx graphs with a PHOTONAI Graph pipeline.\n",
    "\n",
    "First: Necessary imports"
   ]
  },
  {
   "cell_type": "code",
   "execution_count": 1,
   "metadata": {
    "pycharm": {
     "is_executing": true
    }
   },
   "outputs": [],
   "source": [
    "from networkx.generators import barabasi_albert_graph, erdos_renyi_graph\n",
    "from photonai.base import Hyperpipe, PipelineElement\n",
    "from sklearn.model_selection import KFold\n",
    "import networkx as nx\n",
    "import numpy as np"
   ]
  },
  {
   "cell_type": "markdown",
   "metadata": {},
   "source": [
    "Next: Generate graphs and labels"
   ]
  },
  {
   "cell_type": "code",
   "execution_count": 2,
   "metadata": {
    "pycharm": {
     "name": "#%%\n"
    }
   },
   "outputs": [],
   "source": [
    "# create dataset of 1000 graphs\n",
    "rr_graphs = [erdos_renyi_graph(20, .25) for _ in range(500)]\n",
    "er_graphs = [erdos_renyi_graph(20, .2) for _ in range(500)]\n",
    "graphs = rr_graphs + er_graphs\n",
    "\n",
    "# we have to transform the networkx graphs into numpy graphs before passing them to photon\n",
    "graphs = np.array([nx.to_numpy_array(g) for g in graphs])\n",
    "graphs = np.expand_dims(graphs, axis=-1)\n",
    "\n",
    "# create labels\n",
    "rr_labels = [0] * 500\n",
    "er_labels = [1] * 500\n",
    "labels = rr_labels + er_labels"
   ]
  },
  {
   "cell_type": "markdown",
   "metadata": {},
   "source": [
    "Setup Hyperpipe"
   ]
  },
  {
   "cell_type": "code",
   "execution_count": 3,
   "metadata": {
    "pycharm": {
     "name": "#%%\n"
    }
   },
   "outputs": [
    {
     "name": "stderr",
     "output_type": "stream",
     "text": [
      "Using backend: pytorch\n"
     ]
    }
   ],
   "source": [
    "# Design your Pipeline\n",
    "my_pipe = Hyperpipe('networkx_example_pipe',\n",
    "                    inner_cv=KFold(n_splits=2),\n",
    "                    optimizer='sk_opt',\n",
    "                    optimizer_params={'n_configurations': 25},\n",
    "                    metrics=['accuracy', 'balanced_accuracy', 'recall', 'precision'],\n",
    "                    best_config_metric='accuracy')\n",
    "\n",
    "my_pipe.add(PipelineElement('GCNClassifier', feature_axis=0))"
   ]
  },
  {
   "cell_type": "markdown",
   "metadata": {},
   "source": [
    "Final step: Train your Hyperpipe"
   ]
  },
  {
   "cell_type": "code",
   "execution_count": 4,
   "metadata": {
    "pycharm": {
     "name": "#%%\n"
    }
   },
   "outputs": [
    {
     "name": "stdout",
     "output_type": "stream",
     "text": [
      "=====================================================================================================\n",
      "PHOTONAI ANALYSIS: networkx_example_pipe\n",
      "=====================================================================================================\n",
      "\n",
      "*****************************************************************************************************\n",
      "Outer Cross validation Fold 1\n",
      "*****************************************************************************************************\n",
      "Did not find any hyperparameter to convert into skopt space.\n"
     ]
    },
    {
     "name": "stderr",
     "output_type": "stream",
     "text": [
      "/Users/jan/anaconda3/envs/photonai_graph_test/lib/python3.9/site-packages/photonai/optimization/scikit_optimize/sk_opt.py:169: UserWarning: Did not find any hyperparameter to convert into skopt space.\n",
      "  warnings.warn(msg)\n",
      "  0%|          | 0/200 [00:00<?, ?it/s]/Users/jan/anaconda3/envs/photonai_graph_test/lib/python3.9/site-packages/torch/autocast_mode.py:141: UserWarning: User provided device_type of 'cuda', but CUDA is not available. Disabling\n",
      "  warnings.warn('User provided device_type of \\'cuda\\', but CUDA is not available. Disabling')\n",
      "100%|██████████| 200/200 [00:22<00:00,  9.06it/s]\n",
      "  0%|          | 0/200 [00:00<?, ?it/s]/Users/jan/anaconda3/envs/photonai_graph_test/lib/python3.9/site-packages/torch/autocast_mode.py:141: UserWarning: User provided device_type of 'cuda', but CUDA is not available. Disabling\n",
      "  warnings.warn('User provided device_type of \\'cuda\\', but CUDA is not available. Disabling')\n",
      "100%|██████████| 200/200 [00:21<00:00,  9.35it/s]\n"
     ]
    },
    {
     "name": "stdout",
     "output_type": "stream",
     "text": [
      "-----------------------------------------------------------------------------------------------------\n",
      "BEST_CONFIG \n",
      "-----------------------------------------------------------------------------------------------------\n",
      "{}\n",
      "-----------------------------------------------------------------------------------------------------\n",
      "VALIDATION PERFORMANCE\n",
      "-----------------------------------------------------------------------------------------------------\n",
      "+-------------------+-------------------+------------------+\n",
      "|       METRIC      | PERFORMANCE TRAIN | PERFORMANCE TEST |\n",
      "+-------------------+-------------------+------------------+\n",
      "|      accuracy     |       0.7812      |      0.7837      |\n",
      "| balanced_accuracy |       0.7815      |      0.7832      |\n",
      "|       recall      |       0.8268      |      0.8261      |\n",
      "|     precision     |       0.7612      |      0.7636      |\n",
      "+-------------------+-------------------+------------------+\n"
     ]
    },
    {
     "name": "stderr",
     "output_type": "stream",
     "text": [
      "  0%|          | 0/200 [00:00<?, ?it/s]/Users/jan/anaconda3/envs/photonai_graph_test/lib/python3.9/site-packages/torch/autocast_mode.py:141: UserWarning: User provided device_type of 'cuda', but CUDA is not available. Disabling\n",
      "  warnings.warn('User provided device_type of \\'cuda\\', but CUDA is not available. Disabling')\n",
      "100%|██████████| 200/200 [00:42<00:00,  4.76it/s]\n"
     ]
    },
    {
     "name": "stdout",
     "output_type": "stream",
     "text": [
      "-----------------------------------------------------------------------------------------------------\n",
      "TEST PERFORMANCE\n",
      "-----------------------------------------------------------------------------------------------------\n",
      "+-------------------+-------------------+------------------+\n",
      "|       METRIC      | PERFORMANCE TRAIN | PERFORMANCE TEST |\n",
      "+-------------------+-------------------+------------------+\n",
      "|      accuracy     |       0.7837      |      0.7800      |\n",
      "| balanced_accuracy |       0.7838      |      0.7816      |\n",
      "|       recall      |       0.7717      |      0.8351      |\n",
      "|     precision     |       0.7934      |      0.7431      |\n",
      "+-------------------+-------------------+------------------+\n",
      "*****************************************************************************************************\n",
      "Finished all outer fold computations.\n"
     ]
    },
    {
     "name": "stderr",
     "output_type": "stream",
     "text": [
      "  0%|          | 0/200 [00:00<?, ?it/s]/Users/jan/anaconda3/envs/photonai_graph_test/lib/python3.9/site-packages/torch/autocast_mode.py:141: UserWarning: User provided device_type of 'cuda', but CUDA is not available. Disabling\n",
      "  warnings.warn('User provided device_type of \\'cuda\\', but CUDA is not available. Disabling')\n",
      "100%|██████████| 200/200 [00:58<00:00,  3.43it/s]"
     ]
    },
    {
     "name": "stdout",
     "output_type": "stream",
     "text": [
      "*****************************************************************************************************\n",
      "\n",
      "ANALYSIS INFORMATION ================================================================================ \n",
      "Project Folder: /Users/jan/PycharmProjects/photonai_graph/examples/networkx_example/networkx_example_pipe_results_2022-03-31_11-04-58,\n",
      "Computation Time: 2022-03-31 11:04:58.819199 - 2022-03-31 11:06:26.418272\n",
      "Duration: 0:01:27.599073\n",
      "Optimized for: accuracy\n",
      "Hyperparameter Optimizer: sk_opt\n",
      "\n",
      "DUMMY RESULTS =======================================================================================\n",
      "+-------------------+--+\n",
      "| PERFORMANCE DUMMY |  |\n",
      "+-------------------+--+\n",
      "+-------------------+--+\n",
      "\n",
      "AVERAGE PERFORMANCE ACROSS OUTER FOLDS ==============================================================\n",
      "+-------------------+---------------+--------------+-----------+----------+\n",
      "|    Metric Name    | Training Mean | Training Std | Test Mean | Test Std |\n",
      "+-------------------+---------------+--------------+-----------+----------+\n",
      "|      accuracy     |    0.78375    |     0.0      |    0.78   |   0.0    |\n",
      "| balanced_accuracy |    0.783841   |     0.0      |  0.781603 |   0.0    |\n",
      "|       recall      |    0.771712   |     0.0      |  0.835052 |   0.0    |\n",
      "|     precision     |    0.793367   |     0.0      |  0.743119 |   0.0    |\n",
      "+-------------------+---------------+--------------+-----------+----------+\n",
      "\n",
      "BEST HYPERPARAMETER CONFIGURATION ===================================================================\n",
      "{}\n",
      "\n",
      "\n",
      "+--------+----------+-------------------+--------+-----------+----------------------------+\n",
      "| fold # | accuracy | balanced_accuracy | recall | precision | Best Hyperparameter Config |\n",
      "+--------+----------+-------------------+--------+-----------+----------------------------+\n",
      "|   1*   |  0.7800  |       0.7816      | 0.8351 |   0.7431  |             {}             |\n",
      "+--------+----------+-------------------+--------+-----------+----------------------------+\n",
      "\n",
      "PHOTONAI 2.2.0 ======================================================================================\n",
      "Your results are stored in /Users/jan/PycharmProjects/photonai_graph/examples/networkx_example/networkx_example_pipe_results_2022-03-31_11-04-58\n",
      "Go to https://explorer.photon-ai.com and upload your photon_result_file.json for convenient result visualization! \n",
      "For more info and documentation visit https://www.photon-ai.com\n"
     ]
    },
    {
     "name": "stderr",
     "output_type": "stream",
     "text": [
      "\n"
     ]
    },
    {
     "data": {
      "text/plain": [
       "Hyperpipe(name='networkx_example_pipe')"
      ]
     },
     "execution_count": 4,
     "metadata": {},
     "output_type": "execute_result"
    }
   ],
   "source": [
    "my_pipe.fit(graphs, labels)"
   ]
  }
 ],
 "metadata": {
  "kernelspec": {
   "display_name": "Python 3 (ipykernel)",
   "language": "python",
   "name": "python3"
  },
  "language_info": {
   "codemirror_mode": {
    "name": "ipython",
    "version": 3
   },
   "file_extension": ".py",
   "mimetype": "text/x-python",
   "name": "python",
   "nbconvert_exporter": "python",
   "pygments_lexer": "ipython3",
   "version": "3.9.7"
  }
 },
 "nbformat": 4,
 "nbformat_minor": 1
}