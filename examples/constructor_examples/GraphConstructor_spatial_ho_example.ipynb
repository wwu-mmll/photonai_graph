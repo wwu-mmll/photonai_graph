{
 "cells": [
  {
   "cell_type": "code",
   "execution_count": null,
   "metadata": {
    "collapsed": true
   },
   "outputs": [],
   "source": [
    "from photonai.base import Hyperpipe, PipelineElement\n",
    "from photonai_graph.GraphUtilities import get_random_connectivity_data, get_random_labels\n",
    "from sklearn.model_selection import KFold"
   ]
  },
  {
   "cell_type": "code",
   "execution_count": null,
   "metadata": {},
   "outputs": [],
   "source": [
    "# make random matrices to simulate connectivity matrices\n",
    "X = get_random_connectivity_data(number_of_nodes=50, number_of_individuals=100)\n",
    "y = get_random_labels(l_type=\"classification\", number_of_labels=100)"
   ]
  },
  {
   "cell_type": "code",
   "execution_count": null,
   "metadata": {},
   "outputs": [],
   "source": [
    "my_pipe = Hyperpipe('basic_gembedding_pipe',\n",
    "                    inner_cv=KFold(n_splits=5),\n",
    "                    outer_cv=KFold(n_splits=5),\n",
    "                    optimizer='sk_opt',\n",
    "                    optimizer_params={'n_configurations': 25},\n",
    "                    metrics=['accuracy', 'balanced_accuracy', 'recall', 'precision'],\n",
    "                    best_config_metric='accuracy')\n",
    "\n",
    "my_pipe.add(PipelineElement('GraphConstructorSpatial', atlas_name='ho'))\n",
    "\n",
    "my_pipe.add(PipelineElement('GraphEmbeddingLocallyLinearEmbedding'))\n",
    "\n",
    "my_pipe.add(PipelineElement('SVC'))"
   ]
  },
  {
   "cell_type": "code",
   "execution_count": null,
   "metadata": {},
   "outputs": [],
   "source": [
    "my_pipe.fit(X, y)"
   ]
  }
 ],
 "metadata": {
  "kernelspec": {
   "display_name": "Python 2",
   "language": "python",
   "name": "python2"
  },
  "language_info": {
   "codemirror_mode": {
    "name": "ipython",
    "version": 2
   },
   "file_extension": ".py",
   "mimetype": "text/x-python",
   "name": "python",
   "nbconvert_exporter": "python",
   "pygments_lexer": "ipython2",
   "version": "2.7.6"
  }
 },
 "nbformat": 4,
 "nbformat_minor": 0
}
