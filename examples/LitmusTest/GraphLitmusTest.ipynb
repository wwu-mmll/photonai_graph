{
 "cells": [
  {
   "cell_type": "markdown",
   "metadata": {
    "collapsed": true
   },
   "source": [
    "# Graph Litmus Test\n",
    "\n",
    "This is a very simple example to proove, that the GCN components are actually working."
   ]
  },
  {
   "cell_type": "code",
   "execution_count": 1,
   "metadata": {},
   "outputs": [
    {
     "name": "stderr",
     "output_type": "stream",
     "text": [
      "Using backend: pytorch\n"
     ]
    }
   ],
   "source": [
    "from Networkx_Dataset import get_random_graphs, plot_nx_edge_count\n",
    "from photonai.base import Hyperpipe, PipelineElement\n",
    "from sklearn.model_selection import KFold\n",
    "from photonai_graph.GraphConversions import networkx_to_dense\n",
    "import numpy as np"
   ]
  },
  {
   "cell_type": "markdown",
   "metadata": {},
   "source": [
    "Create a sample dataset:"
   ]
  },
  {
   "cell_type": "code",
   "execution_count": 2,
   "metadata": {},
   "outputs": [],
   "source": [
    "# create dataset\n",
    "sparse_graphs = get_random_graphs(500, 20, 0.2)\n",
    "dense_graphs = get_random_graphs(500, 20, 0.4)\n",
    "graphs = sparse_graphs + dense_graphs\n",
    "graphs = np.stack(networkx_to_dense(graphs))\n",
    "graphs = np.repeat(graphs[:, :, :, np.newaxis], 2, axis=3)\n",
    "\n",
    "# create labels\n",
    "sparse_labels = [0] * 500\n",
    "dense_labels = [1] * 500\n",
    "labels = sparse_labels + dense_labels"
   ]
  },
  {
   "cell_type": "markdown",
   "metadata": {},
   "source": [
    "Visualize the edge count of the graphs (we created two groups):"
   ]
  },
  {
   "cell_type": "code",
   "execution_count": 3,
   "metadata": {},
   "outputs": [
    {
     "data": {
      "image/png": "[encoded data removed]",
      "text/plain": [
       "<Figure size 441.875x360 with 1 Axes>"
      ]
     },
     "metadata": {
      "needs_background": "light"
     },
     "output_type": "display_data"
    }
   ],
   "source": [
    "plot_nx_edge_count(sparse_graphs, dense_graphs)"
   ]
  },
  {
   "cell_type": "markdown",
   "metadata": {},
   "source": [
    "Setup the PHOTONAI Pipeline"
   ]
  },
  {
   "cell_type": "code",
   "execution_count": 4,
   "metadata": {},
   "outputs": [
    {
     "name": "stderr",
     "output_type": "stream",
     "text": [
      "/Users/jan/PycharmProjects/photonai_graph/photonai_graph/NeuralNets/dgl_base.py:68: UserWarning: If self loops are added allow_zero_in_degree should be false!\n",
      "  warnings.warn('If self loops are added allow_zero_in_degree should be false!')\n"
     ]
    }
   ],
   "source": [
    "my_pipe = Hyperpipe('basic_gcn_pipe',\n",
    "                    inner_cv=KFold(n_splits=5),\n",
    "                    outer_cv=KFold(n_splits=5),\n",
    "                    optimizer='sk_opt',\n",
    "                    optimizer_params={'n_configurations': 25},\n",
    "                    metrics=['accuracy', 'balanced_accuracy', 'recall', 'precision'],\n",
    "                    best_config_metric='accuracy')\n",
    "\n",
    "my_pipe.add(PipelineElement('GraphConstructorThreshold', threshold=0.95))\n",
    "\n",
    "my_pipe.add(PipelineElement('GCNClassifier', feature_axis=0, allow_zero_in_degree=True))"
   ]
  },
  {
   "cell_type": "markdown",
   "metadata": {},
   "source": [
    "Fit the Pipeline to our data:"
   ]
  },
  {
   "cell_type": "code",
   "execution_count": 5,
   "metadata": {
    "scrolled": true
   },
   "outputs": [
    {
     "name": "stdout",
     "output_type": "stream",
     "text": [
      "=====================================================================================================\n",
      "PHOTONAI ANALYSIS: basic_gcn_pipe\n",
      "=====================================================================================================\n",
      "\n",
      "*****************************************************************************************************\n",
      "Outer Cross validation Fold 1\n",
      "*****************************************************************************************************\n",
      "Did not find any hyperparameter to convert into skopt space.\n"
     ]
    },
    {
     "name": "stderr",
     "output_type": "stream",
     "text": [
      "/Users/jan/anaconda3/envs/photonai_graph_test/lib/python3.9/site-packages/photonai/optimization/scikit_optimize/sk_opt.py:169: UserWarning: Did not find any hyperparameter to convert into skopt space.\n",
      "  warnings.warn(msg)\n",
      "  0%|          | 0/200 [00:00<?, ?it/s]/Users/jan/anaconda3/envs/photonai_graph_test/lib/python3.9/site-packages/torch/autocast_mode.py:141: UserWarning: User provided device_type of 'cuda', but CUDA is not available. Disabling\n",
      "  warnings.warn('User provided device_type of \\'cuda\\', but CUDA is not available. Disabling')\n",
      "100%|██████████| 200/200 [00:35<00:00,  5.63it/s]\n",
      "/Users/jan/anaconda3/envs/photonai_graph_test/lib/python3.9/site-packages/sklearn/metrics/_classification.py:1318: UndefinedMetricWarning: Recall is ill-defined and being set to 0.0 due to no true samples. Use `zero_division` parameter to control this behavior.\n",
      "  _warn_prf(average, modifier, msg_start, len(result))\n",
      "/Users/jan/PycharmProjects/photonai_graph/photonai_graph/NeuralNets/dgl_base.py:68: UserWarning: If self loops are added allow_zero_in_degree should be false!\n",
      "  warnings.warn('If self loops are added allow_zero_in_degree should be false!')\n",
      "  0%|          | 0/200 [00:00<?, ?it/s]/Users/jan/anaconda3/envs/photonai_graph_test/lib/python3.9/site-packages/torch/autocast_mode.py:141: UserWarning: User provided device_type of 'cuda', but CUDA is not available. Disabling\n",
      "  warnings.warn('User provided device_type of \\'cuda\\', but CUDA is not available. Disabling')\n",
      "100%|██████████| 200/200 [00:35<00:00,  5.60it/s]\n",
      "/Users/jan/PycharmProjects/photonai_graph/photonai_graph/NeuralNets/dgl_base.py:68: UserWarning: If self loops are added allow_zero_in_degree should be false!\n",
      "  warnings.warn('If self loops are added allow_zero_in_degree should be false!')\n",
      "  0%|          | 0/200 [00:00<?, ?it/s]/Users/jan/anaconda3/envs/photonai_graph_test/lib/python3.9/site-packages/torch/autocast_mode.py:141: UserWarning: User provided device_type of 'cuda', but CUDA is not available. Disabling\n",
      "  warnings.warn('User provided device_type of \\'cuda\\', but CUDA is not available. Disabling')\n",
      "100%|██████████| 200/200 [00:35<00:00,  5.69it/s]\n",
      "/Users/jan/PycharmProjects/photonai_graph/photonai_graph/NeuralNets/dgl_base.py:68: UserWarning: If self loops are added allow_zero_in_degree should be false!\n",
      "  warnings.warn('If self loops are added allow_zero_in_degree should be false!')\n",
      "  0%|          | 0/200 [00:00<?, ?it/s]/Users/jan/anaconda3/envs/photonai_graph_test/lib/python3.9/site-packages/torch/autocast_mode.py:141: UserWarning: User provided device_type of 'cuda', but CUDA is not available. Disabling\n",
      "  warnings.warn('User provided device_type of \\'cuda\\', but CUDA is not available. Disabling')\n",
      "100%|██████████| 200/200 [00:34<00:00,  5.76it/s]\n",
      "/Users/jan/PycharmProjects/photonai_graph/photonai_graph/NeuralNets/dgl_base.py:68: UserWarning: If self loops are added allow_zero_in_degree should be false!\n",
      "  warnings.warn('If self loops are added allow_zero_in_degree should be false!')\n",
      "  0%|          | 0/200 [00:00<?, ?it/s]/Users/jan/anaconda3/envs/photonai_graph_test/lib/python3.9/site-packages/torch/autocast_mode.py:141: UserWarning: User provided device_type of 'cuda', but CUDA is not available. Disabling\n",
      "  warnings.warn('User provided device_type of \\'cuda\\', but CUDA is not available. Disabling')\n",
      "100%|██████████| 200/200 [00:34<00:00,  5.77it/s]\n"
     ]
    },
    {
     "name": "stdout",
     "output_type": "stream",
     "text": [
      "-----------------------------------------------------------------------------------------------------\n",
      "BEST_CONFIG \n",
      "-----------------------------------------------------------------------------------------------------\n",
      "{}\n",
      "-----------------------------------------------------------------------------------------------------\n",
      "VALIDATION PERFORMANCE\n",
      "-----------------------------------------------------------------------------------------------------\n",
      "+-------------------+-------------------+------------------+\n",
      "|       METRIC      | PERFORMANCE TRAIN | PERFORMANCE TEST |\n",
      "+-------------------+-------------------+------------------+\n",
      "|      accuracy     |       0.9994      |      0.9975      |\n",
      "| balanced_accuracy |       0.9994      |       nan        |\n",
      "|       recall      |       0.9994      |      0.7987      |\n",
      "|     precision     |       0.9994      |      0.8000      |\n",
      "+-------------------+-------------------+------------------+\n"
     ]
    },
    {
     "name": "stderr",
     "output_type": "stream",
     "text": [
      "/Users/jan/PycharmProjects/photonai_graph/photonai_graph/NeuralNets/dgl_base.py:68: UserWarning: If self loops are added allow_zero_in_degree should be false!\n",
      "  warnings.warn('If self loops are added allow_zero_in_degree should be false!')\n",
      "  0%|          | 0/200 [00:00<?, ?it/s]/Users/jan/anaconda3/envs/photonai_graph_test/lib/python3.9/site-packages/torch/autocast_mode.py:141: UserWarning: User provided device_type of 'cuda', but CUDA is not available. Disabling\n",
      "  warnings.warn('User provided device_type of \\'cuda\\', but CUDA is not available. Disabling')\n",
      "100%|██████████| 200/200 [00:43<00:00,  4.62it/s]\n",
      "/Users/jan/anaconda3/envs/photonai_graph_test/lib/python3.9/site-packages/sklearn/metrics/_classification.py:1318: UndefinedMetricWarning: Recall is ill-defined and being set to 0.0 due to no true samples. Use `zero_division` parameter to control this behavior.\n",
      "  _warn_prf(average, modifier, msg_start, len(result))\n"
     ]
    },
    {
     "name": "stdout",
     "output_type": "stream",
     "text": [
      "-----------------------------------------------------------------------------------------------------\n",
      "TEST PERFORMANCE\n",
      "-----------------------------------------------------------------------------------------------------\n",
      "+-------------------+-------------------+------------------+\n",
      "|       METRIC      | PERFORMANCE TRAIN | PERFORMANCE TEST |\n",
      "+-------------------+-------------------+------------------+\n",
      "|      accuracy     |       0.9938      |      0.9900      |\n",
      "| balanced_accuracy |       0.9917      |       nan        |\n",
      "|       recall      |       1.0000      |      0.0000      |\n",
      "|     precision     |       0.9901      |      0.0000      |\n",
      "+-------------------+-------------------+------------------+\n",
      "\n",
      "*****************************************************************************************************\n",
      "Outer Cross validation Fold 2\n",
      "*****************************************************************************************************\n",
      "Did not find any hyperparameter to convert into skopt space.\n"
     ]
    },
    {
     "name": "stderr",
     "output_type": "stream",
     "text": [
      "/Users/jan/anaconda3/envs/photonai_graph_test/lib/python3.9/site-packages/photonai/optimization/scikit_optimize/sk_opt.py:169: UserWarning: Did not find any hyperparameter to convert into skopt space.\n",
      "  warnings.warn(msg)\n",
      "/Users/jan/PycharmProjects/photonai_graph/photonai_graph/NeuralNets/dgl_base.py:68: UserWarning: If self loops are added allow_zero_in_degree should be false!\n",
      "  warnings.warn('If self loops are added allow_zero_in_degree should be false!')\n",
      "  0%|          | 0/200 [00:00<?, ?it/s]/Users/jan/anaconda3/envs/photonai_graph_test/lib/python3.9/site-packages/torch/autocast_mode.py:141: UserWarning: User provided device_type of 'cuda', but CUDA is not available. Disabling\n",
      "  warnings.warn('User provided device_type of \\'cuda\\', but CUDA is not available. Disabling')\n",
      "100%|██████████| 200/200 [00:35<00:00,  5.70it/s]\n",
      "/Users/jan/anaconda3/envs/photonai_graph_test/lib/python3.9/site-packages/sklearn/metrics/_classification.py:1318: UndefinedMetricWarning: Recall is ill-defined and being set to 0.0 due to no true samples. Use `zero_division` parameter to control this behavior.\n",
      "  _warn_prf(average, modifier, msg_start, len(result))\n",
      "/Users/jan/PycharmProjects/photonai_graph/photonai_graph/NeuralNets/dgl_base.py:68: UserWarning: If self loops are added allow_zero_in_degree should be false!\n",
      "  warnings.warn('If self loops are added allow_zero_in_degree should be false!')\n",
      "  0%|          | 0/200 [00:00<?, ?it/s]/Users/jan/anaconda3/envs/photonai_graph_test/lib/python3.9/site-packages/torch/autocast_mode.py:141: UserWarning: User provided device_type of 'cuda', but CUDA is not available. Disabling\n",
      "  warnings.warn('User provided device_type of \\'cuda\\', but CUDA is not available. Disabling')\n",
      "100%|██████████| 200/200 [00:35<00:00,  5.69it/s]\n",
      "/Users/jan/PycharmProjects/photonai_graph/photonai_graph/NeuralNets/dgl_base.py:68: UserWarning: If self loops are added allow_zero_in_degree should be false!\n",
      "  warnings.warn('If self loops are added allow_zero_in_degree should be false!')\n",
      "  0%|          | 0/200 [00:00<?, ?it/s]/Users/jan/anaconda3/envs/photonai_graph_test/lib/python3.9/site-packages/torch/autocast_mode.py:141: UserWarning: User provided device_type of 'cuda', but CUDA is not available. Disabling\n",
      "  warnings.warn('User provided device_type of \\'cuda\\', but CUDA is not available. Disabling')\n",
      "100%|██████████| 200/200 [00:34<00:00,  5.79it/s]\n",
      "/Users/jan/PycharmProjects/photonai_graph/photonai_graph/NeuralNets/dgl_base.py:68: UserWarning: If self loops are added allow_zero_in_degree should be false!\n",
      "  warnings.warn('If self loops are added allow_zero_in_degree should be false!')\n",
      "  0%|          | 0/200 [00:00<?, ?it/s]/Users/jan/anaconda3/envs/photonai_graph_test/lib/python3.9/site-packages/torch/autocast_mode.py:141: UserWarning: User provided device_type of 'cuda', but CUDA is not available. Disabling\n",
      "  warnings.warn('User provided device_type of \\'cuda\\', but CUDA is not available. Disabling')\n",
      "100%|██████████| 200/200 [00:34<00:00,  5.80it/s]\n",
      "/Users/jan/PycharmProjects/photonai_graph/photonai_graph/NeuralNets/dgl_base.py:68: UserWarning: If self loops are added allow_zero_in_degree should be false!\n",
      "  warnings.warn('If self loops are added allow_zero_in_degree should be false!')\n",
      "  0%|          | 0/200 [00:00<?, ?it/s]/Users/jan/anaconda3/envs/photonai_graph_test/lib/python3.9/site-packages/torch/autocast_mode.py:141: UserWarning: User provided device_type of 'cuda', but CUDA is not available. Disabling\n",
      "  warnings.warn('User provided device_type of \\'cuda\\', but CUDA is not available. Disabling')\n",
      "100%|██████████| 200/200 [00:34<00:00,  5.83it/s]\n"
     ]
    },
    {
     "name": "stdout",
     "output_type": "stream",
     "text": [
      "-----------------------------------------------------------------------------------------------------\n",
      "BEST_CONFIG \n",
      "-----------------------------------------------------------------------------------------------------\n",
      "{}\n",
      "-----------------------------------------------------------------------------------------------------\n",
      "VALIDATION PERFORMANCE\n",
      "-----------------------------------------------------------------------------------------------------\n",
      "+-------------------+-------------------+------------------+\n",
      "|       METRIC      | PERFORMANCE TRAIN | PERFORMANCE TEST |\n",
      "+-------------------+-------------------+------------------+\n",
      "|      accuracy     |       0.9984      |      0.9975      |\n",
      "| balanced_accuracy |       0.9981      |       nan        |\n",
      "|       recall      |       0.9994      |      0.7987      |\n",
      "|     precision     |       0.9978      |      0.8000      |\n",
      "+-------------------+-------------------+------------------+\n"
     ]
    },
    {
     "name": "stderr",
     "output_type": "stream",
     "text": [
      "/Users/jan/PycharmProjects/photonai_graph/photonai_graph/NeuralNets/dgl_base.py:68: UserWarning: If self loops are added allow_zero_in_degree should be false!\n",
      "  warnings.warn('If self loops are added allow_zero_in_degree should be false!')\n",
      "  0%|          | 0/200 [00:00<?, ?it/s]/Users/jan/anaconda3/envs/photonai_graph_test/lib/python3.9/site-packages/torch/autocast_mode.py:141: UserWarning: User provided device_type of 'cuda', but CUDA is not available. Disabling\n",
      "  warnings.warn('User provided device_type of \\'cuda\\', but CUDA is not available. Disabling')\n",
      "100%|██████████| 200/200 [00:42<00:00,  4.67it/s]\n",
      "/Users/jan/anaconda3/envs/photonai_graph_test/lib/python3.9/site-packages/sklearn/metrics/_classification.py:1318: UndefinedMetricWarning: Recall is ill-defined and being set to 0.0 due to no true samples. Use `zero_division` parameter to control this behavior.\n",
      "  _warn_prf(average, modifier, msg_start, len(result))\n",
      "/Users/jan/anaconda3/envs/photonai_graph_test/lib/python3.9/site-packages/sklearn/metrics/_classification.py:1318: UndefinedMetricWarning: Precision is ill-defined and being set to 0.0 due to no predicted samples. Use `zero_division` parameter to control this behavior.\n",
      "  _warn_prf(average, modifier, msg_start, len(result))\n"
     ]
    },
    {
     "name": "stdout",
     "output_type": "stream",
     "text": [
      "-----------------------------------------------------------------------------------------------------\n",
      "TEST PERFORMANCE\n",
      "-----------------------------------------------------------------------------------------------------\n",
      "+-------------------+-------------------+------------------+\n",
      "|       METRIC      | PERFORMANCE TRAIN | PERFORMANCE TEST |\n",
      "+-------------------+-------------------+------------------+\n",
      "|      accuracy     |       0.9975      |      1.0000      |\n",
      "| balanced_accuracy |       0.9973      |       nan        |\n",
      "|       recall      |       0.9980      |      0.0000      |\n",
      "|     precision     |       0.9980      |      0.0000      |\n",
      "+-------------------+-------------------+------------------+\n",
      "\n",
      "*****************************************************************************************************\n",
      "Outer Cross validation Fold 3\n",
      "*****************************************************************************************************\n",
      "Did not find any hyperparameter to convert into skopt space.\n"
     ]
    },
    {
     "name": "stderr",
     "output_type": "stream",
     "text": [
      "/Users/jan/anaconda3/envs/photonai_graph_test/lib/python3.9/site-packages/photonai/optimization/scikit_optimize/sk_opt.py:169: UserWarning: Did not find any hyperparameter to convert into skopt space.\n",
      "  warnings.warn(msg)\n",
      "/Users/jan/PycharmProjects/photonai_graph/photonai_graph/NeuralNets/dgl_base.py:68: UserWarning: If self loops are added allow_zero_in_degree should be false!\n",
      "  warnings.warn('If self loops are added allow_zero_in_degree should be false!')\n",
      "  0%|          | 0/200 [00:00<?, ?it/s]/Users/jan/anaconda3/envs/photonai_graph_test/lib/python3.9/site-packages/torch/autocast_mode.py:141: UserWarning: User provided device_type of 'cuda', but CUDA is not available. Disabling\n",
      "  warnings.warn('User provided device_type of \\'cuda\\', but CUDA is not available. Disabling')\n",
      "100%|██████████| 200/200 [00:34<00:00,  5.80it/s]\n",
      "/Users/jan/anaconda3/envs/photonai_graph_test/lib/python3.9/site-packages/sklearn/metrics/_classification.py:1318: UndefinedMetricWarning: Recall is ill-defined and being set to 0.0 due to no true samples. Use `zero_division` parameter to control this behavior.\n",
      "  _warn_prf(average, modifier, msg_start, len(result))\n",
      "/Users/jan/PycharmProjects/photonai_graph/photonai_graph/NeuralNets/dgl_base.py:68: UserWarning: If self loops are added allow_zero_in_degree should be false!\n",
      "  warnings.warn('If self loops are added allow_zero_in_degree should be false!')\n",
      "  0%|          | 0/200 [00:00<?, ?it/s]/Users/jan/anaconda3/envs/photonai_graph_test/lib/python3.9/site-packages/torch/autocast_mode.py:141: UserWarning: User provided device_type of 'cuda', but CUDA is not available. Disabling\n",
      "  warnings.warn('User provided device_type of \\'cuda\\', but CUDA is not available. Disabling')\n",
      "100%|██████████| 200/200 [00:35<00:00,  5.67it/s]\n",
      "/Users/jan/anaconda3/envs/photonai_graph_test/lib/python3.9/site-packages/sklearn/metrics/_classification.py:1318: UndefinedMetricWarning: Recall is ill-defined and being set to 0.0 due to no true samples. Use `zero_division` parameter to control this behavior.\n",
      "  _warn_prf(average, modifier, msg_start, len(result))\n",
      "/Users/jan/anaconda3/envs/photonai_graph_test/lib/python3.9/site-packages/sklearn/metrics/_classification.py:1318: UndefinedMetricWarning: Precision is ill-defined and being set to 0.0 due to no predicted samples. Use `zero_division` parameter to control this behavior.\n",
      "  _warn_prf(average, modifier, msg_start, len(result))\n",
      "/Users/jan/PycharmProjects/photonai_graph/photonai_graph/NeuralNets/dgl_base.py:68: UserWarning: If self loops are added allow_zero_in_degree should be false!\n",
      "  warnings.warn('If self loops are added allow_zero_in_degree should be false!')\n",
      "  0%|          | 0/200 [00:00<?, ?it/s]/Users/jan/anaconda3/envs/photonai_graph_test/lib/python3.9/site-packages/torch/autocast_mode.py:141: UserWarning: User provided device_type of 'cuda', but CUDA is not available. Disabling\n",
      "  warnings.warn('User provided device_type of \\'cuda\\', but CUDA is not available. Disabling')\n",
      "100%|██████████| 200/200 [00:35<00:00,  5.70it/s]\n",
      "/Users/jan/PycharmProjects/photonai_graph/photonai_graph/NeuralNets/dgl_base.py:68: UserWarning: If self loops are added allow_zero_in_degree should be false!\n",
      "  warnings.warn('If self loops are added allow_zero_in_degree should be false!')\n",
      "  0%|          | 0/200 [00:00<?, ?it/s]/Users/jan/anaconda3/envs/photonai_graph_test/lib/python3.9/site-packages/torch/autocast_mode.py:141: UserWarning: User provided device_type of 'cuda', but CUDA is not available. Disabling\n",
      "  warnings.warn('User provided device_type of \\'cuda\\', but CUDA is not available. Disabling')\n",
      "100%|██████████| 200/200 [00:34<00:00,  5.77it/s]\n",
      "/Users/jan/PycharmProjects/photonai_graph/photonai_graph/NeuralNets/dgl_base.py:68: UserWarning: If self loops are added allow_zero_in_degree should be false!\n",
      "  warnings.warn('If self loops are added allow_zero_in_degree should be false!')\n",
      "  0%|          | 0/200 [00:00<?, ?it/s]/Users/jan/anaconda3/envs/photonai_graph_test/lib/python3.9/site-packages/torch/autocast_mode.py:141: UserWarning: User provided device_type of 'cuda', but CUDA is not available. Disabling\n",
      "  warnings.warn('User provided device_type of \\'cuda\\', but CUDA is not available. Disabling')\n",
      "100%|██████████| 200/200 [00:33<00:00,  5.90it/s]\n"
     ]
    },
    {
     "name": "stdout",
     "output_type": "stream",
     "text": [
      "-----------------------------------------------------------------------------------------------------\n",
      "BEST_CONFIG \n",
      "-----------------------------------------------------------------------------------------------------\n",
      "{}\n",
      "-----------------------------------------------------------------------------------------------------\n",
      "VALIDATION PERFORMANCE\n",
      "-----------------------------------------------------------------------------------------------------\n",
      "+-------------------+-------------------+------------------+\n",
      "|       METRIC      | PERFORMANCE TRAIN | PERFORMANCE TEST |\n",
      "+-------------------+-------------------+------------------+\n",
      "|      accuracy     |       0.9975      |      0.9925      |\n",
      "| balanced_accuracy |       0.9973      |       nan        |\n",
      "|       recall      |       0.9965      |      0.5925      |\n",
      "|     precision     |       0.9980      |      0.6000      |\n",
      "+-------------------+-------------------+------------------+\n"
     ]
    },
    {
     "name": "stderr",
     "output_type": "stream",
     "text": [
      "/Users/jan/PycharmProjects/photonai_graph/photonai_graph/NeuralNets/dgl_base.py:68: UserWarning: If self loops are added allow_zero_in_degree should be false!\n",
      "  warnings.warn('If self loops are added allow_zero_in_degree should be false!')\n",
      "  0%|          | 0/200 [00:00<?, ?it/s]/Users/jan/anaconda3/envs/photonai_graph_test/lib/python3.9/site-packages/torch/autocast_mode.py:141: UserWarning: User provided device_type of 'cuda', but CUDA is not available. Disabling\n",
      "  warnings.warn('User provided device_type of \\'cuda\\', but CUDA is not available. Disabling')\n",
      "100%|██████████| 200/200 [00:43<00:00,  4.63it/s]\n"
     ]
    },
    {
     "name": "stdout",
     "output_type": "stream",
     "text": [
      "-----------------------------------------------------------------------------------------------------\n",
      "TEST PERFORMANCE\n",
      "-----------------------------------------------------------------------------------------------------\n",
      "+-------------------+-------------------+------------------+\n",
      "|       METRIC      | PERFORMANCE TRAIN | PERFORMANCE TEST |\n",
      "+-------------------+-------------------+------------------+\n",
      "|      accuracy     |       0.9975      |      1.0000      |\n",
      "| balanced_accuracy |       0.9975      |      1.0000      |\n",
      "|       recall      |       0.9975      |      1.0000      |\n",
      "|     precision     |       0.9975      |      1.0000      |\n",
      "+-------------------+-------------------+------------------+\n",
      "\n",
      "*****************************************************************************************************\n",
      "Outer Cross validation Fold 4\n",
      "*****************************************************************************************************\n",
      "Did not find any hyperparameter to convert into skopt space.\n"
     ]
    },
    {
     "name": "stderr",
     "output_type": "stream",
     "text": [
      "/Users/jan/anaconda3/envs/photonai_graph_test/lib/python3.9/site-packages/photonai/optimization/scikit_optimize/sk_opt.py:169: UserWarning: Did not find any hyperparameter to convert into skopt space.\n",
      "  warnings.warn(msg)\n",
      "/Users/jan/PycharmProjects/photonai_graph/photonai_graph/NeuralNets/dgl_base.py:68: UserWarning: If self loops are added allow_zero_in_degree should be false!\n",
      "  warnings.warn('If self loops are added allow_zero_in_degree should be false!')\n",
      "  0%|          | 0/200 [00:00<?, ?it/s]/Users/jan/anaconda3/envs/photonai_graph_test/lib/python3.9/site-packages/torch/autocast_mode.py:141: UserWarning: User provided device_type of 'cuda', but CUDA is not available. Disabling\n",
      "  warnings.warn('User provided device_type of \\'cuda\\', but CUDA is not available. Disabling')\n",
      "100%|██████████| 200/200 [00:34<00:00,  5.81it/s]\n",
      "/Users/jan/anaconda3/envs/photonai_graph_test/lib/python3.9/site-packages/sklearn/metrics/_classification.py:1318: UndefinedMetricWarning: Recall is ill-defined and being set to 0.0 due to no true samples. Use `zero_division` parameter to control this behavior.\n",
      "  _warn_prf(average, modifier, msg_start, len(result))\n",
      "/Users/jan/PycharmProjects/photonai_graph/photonai_graph/NeuralNets/dgl_base.py:68: UserWarning: If self loops are added allow_zero_in_degree should be false!\n",
      "  warnings.warn('If self loops are added allow_zero_in_degree should be false!')\n",
      "  0%|          | 0/200 [00:00<?, ?it/s]/Users/jan/anaconda3/envs/photonai_graph_test/lib/python3.9/site-packages/torch/autocast_mode.py:141: UserWarning: User provided device_type of 'cuda', but CUDA is not available. Disabling\n",
      "  warnings.warn('User provided device_type of \\'cuda\\', but CUDA is not available. Disabling')\n",
      "100%|██████████| 200/200 [00:34<00:00,  5.84it/s]\n",
      "/Users/jan/anaconda3/envs/photonai_graph_test/lib/python3.9/site-packages/sklearn/metrics/_classification.py:1318: UndefinedMetricWarning: Recall is ill-defined and being set to 0.0 due to no true samples. Use `zero_division` parameter to control this behavior.\n",
      "  _warn_prf(average, modifier, msg_start, len(result))\n",
      "/Users/jan/PycharmProjects/photonai_graph/photonai_graph/NeuralNets/dgl_base.py:68: UserWarning: If self loops are added allow_zero_in_degree should be false!\n",
      "  warnings.warn('If self loops are added allow_zero_in_degree should be false!')\n",
      "  0%|          | 0/200 [00:00<?, ?it/s]/Users/jan/anaconda3/envs/photonai_graph_test/lib/python3.9/site-packages/torch/autocast_mode.py:141: UserWarning: User provided device_type of 'cuda', but CUDA is not available. Disabling\n",
      "  warnings.warn('User provided device_type of \\'cuda\\', but CUDA is not available. Disabling')\n",
      "100%|██████████| 200/200 [00:34<00:00,  5.80it/s]\n",
      "/Users/jan/anaconda3/envs/photonai_graph_test/lib/python3.9/site-packages/sklearn/metrics/_classification.py:1318: UndefinedMetricWarning: Recall is ill-defined and being set to 0.0 due to no true samples. Use `zero_division` parameter to control this behavior.\n",
      "  _warn_prf(average, modifier, msg_start, len(result))\n",
      "/Users/jan/anaconda3/envs/photonai_graph_test/lib/python3.9/site-packages/sklearn/metrics/_classification.py:1318: UndefinedMetricWarning: Precision is ill-defined and being set to 0.0 due to no predicted samples. Use `zero_division` parameter to control this behavior.\n",
      "  _warn_prf(average, modifier, msg_start, len(result))\n",
      "/Users/jan/PycharmProjects/photonai_graph/photonai_graph/NeuralNets/dgl_base.py:68: UserWarning: If self loops are added allow_zero_in_degree should be false!\n",
      "  warnings.warn('If self loops are added allow_zero_in_degree should be false!')\n",
      "  0%|          | 0/200 [00:00<?, ?it/s]/Users/jan/anaconda3/envs/photonai_graph_test/lib/python3.9/site-packages/torch/autocast_mode.py:141: UserWarning: User provided device_type of 'cuda', but CUDA is not available. Disabling\n",
      "  warnings.warn('User provided device_type of \\'cuda\\', but CUDA is not available. Disabling')\n",
      "100%|██████████| 200/200 [00:33<00:00,  5.90it/s]\n",
      "/Users/jan/PycharmProjects/photonai_graph/photonai_graph/NeuralNets/dgl_base.py:68: UserWarning: If self loops are added allow_zero_in_degree should be false!\n",
      "  warnings.warn('If self loops are added allow_zero_in_degree should be false!')\n",
      "  0%|          | 0/200 [00:00<?, ?it/s]/Users/jan/anaconda3/envs/photonai_graph_test/lib/python3.9/site-packages/torch/autocast_mode.py:141: UserWarning: User provided device_type of 'cuda', but CUDA is not available. Disabling\n",
      "  warnings.warn('User provided device_type of \\'cuda\\', but CUDA is not available. Disabling')\n",
      "100%|██████████| 200/200 [00:33<00:00,  5.96it/s]\n"
     ]
    },
    {
     "name": "stdout",
     "output_type": "stream",
     "text": [
      "-----------------------------------------------------------------------------------------------------\n",
      "BEST_CONFIG \n",
      "-----------------------------------------------------------------------------------------------------\n",
      "{}\n",
      "-----------------------------------------------------------------------------------------------------\n",
      "VALIDATION PERFORMANCE\n",
      "-----------------------------------------------------------------------------------------------------\n",
      "+-------------------+-------------------+------------------+\n",
      "|       METRIC      | PERFORMANCE TRAIN | PERFORMANCE TEST |\n",
      "+-------------------+-------------------+------------------+\n",
      "|      accuracy     |       0.9988      |      0.9963      |\n",
      "| balanced_accuracy |       0.9990      |       nan        |\n",
      "|       recall      |       1.0000      |      0.4000      |\n",
      "|     precision     |       0.9960      |      0.4000      |\n",
      "+-------------------+-------------------+------------------+\n"
     ]
    },
    {
     "name": "stderr",
     "output_type": "stream",
     "text": [
      "/Users/jan/PycharmProjects/photonai_graph/photonai_graph/NeuralNets/dgl_base.py:68: UserWarning: If self loops are added allow_zero_in_degree should be false!\n",
      "  warnings.warn('If self loops are added allow_zero_in_degree should be false!')\n",
      "  0%|          | 0/200 [00:00<?, ?it/s]/Users/jan/anaconda3/envs/photonai_graph_test/lib/python3.9/site-packages/torch/autocast_mode.py:141: UserWarning: User provided device_type of 'cuda', but CUDA is not available. Disabling\n",
      "  warnings.warn('User provided device_type of \\'cuda\\', but CUDA is not available. Disabling')\n",
      "100%|██████████| 200/200 [00:42<00:00,  4.69it/s]\n"
     ]
    },
    {
     "name": "stdout",
     "output_type": "stream",
     "text": [
      "-----------------------------------------------------------------------------------------------------\n",
      "TEST PERFORMANCE\n",
      "-----------------------------------------------------------------------------------------------------\n",
      "+-------------------+-------------------+------------------+\n",
      "|       METRIC      | PERFORMANCE TRAIN | PERFORMANCE TEST |\n",
      "+-------------------+-------------------+------------------+\n",
      "|      accuracy     |       0.9988      |      0.9950      |\n",
      "| balanced_accuracy |       0.9990      |       nan        |\n",
      "|       recall      |       1.0000      |      0.9950      |\n",
      "|     precision     |       0.9967      |      1.0000      |\n",
      "+-------------------+-------------------+------------------+\n",
      "\n",
      "*****************************************************************************************************\n",
      "Outer Cross validation Fold 5\n",
      "*****************************************************************************************************\n",
      "Did not find any hyperparameter to convert into skopt space.\n"
     ]
    },
    {
     "name": "stderr",
     "output_type": "stream",
     "text": [
      "/Users/jan/anaconda3/envs/photonai_graph_test/lib/python3.9/site-packages/photonai/optimization/scikit_optimize/sk_opt.py:169: UserWarning: Did not find any hyperparameter to convert into skopt space.\n",
      "  warnings.warn(msg)\n",
      "/Users/jan/PycharmProjects/photonai_graph/photonai_graph/NeuralNets/dgl_base.py:68: UserWarning: If self loops are added allow_zero_in_degree should be false!\n",
      "  warnings.warn('If self loops are added allow_zero_in_degree should be false!')\n",
      "  0%|          | 0/200 [00:00<?, ?it/s]/Users/jan/anaconda3/envs/photonai_graph_test/lib/python3.9/site-packages/torch/autocast_mode.py:141: UserWarning: User provided device_type of 'cuda', but CUDA is not available. Disabling\n",
      "  warnings.warn('User provided device_type of \\'cuda\\', but CUDA is not available. Disabling')\n",
      "100%|██████████| 200/200 [00:34<00:00,  5.81it/s]\n",
      "/Users/jan/anaconda3/envs/photonai_graph_test/lib/python3.9/site-packages/sklearn/metrics/_classification.py:1318: UndefinedMetricWarning: Recall is ill-defined and being set to 0.0 due to no true samples. Use `zero_division` parameter to control this behavior.\n",
      "  _warn_prf(average, modifier, msg_start, len(result))\n",
      "/Users/jan/PycharmProjects/photonai_graph/photonai_graph/NeuralNets/dgl_base.py:68: UserWarning: If self loops are added allow_zero_in_degree should be false!\n",
      "  warnings.warn('If self loops are added allow_zero_in_degree should be false!')\n",
      "  0%|          | 0/200 [00:00<?, ?it/s]/Users/jan/anaconda3/envs/photonai_graph_test/lib/python3.9/site-packages/torch/autocast_mode.py:141: UserWarning: User provided device_type of 'cuda', but CUDA is not available. Disabling\n",
      "  warnings.warn('User provided device_type of \\'cuda\\', but CUDA is not available. Disabling')\n",
      "100%|██████████| 200/200 [00:34<00:00,  5.79it/s]\n",
      "/Users/jan/anaconda3/envs/photonai_graph_test/lib/python3.9/site-packages/sklearn/metrics/_classification.py:1318: UndefinedMetricWarning: Recall is ill-defined and being set to 0.0 due to no true samples. Use `zero_division` parameter to control this behavior.\n",
      "  _warn_prf(average, modifier, msg_start, len(result))\n",
      "/Users/jan/PycharmProjects/photonai_graph/photonai_graph/NeuralNets/dgl_base.py:68: UserWarning: If self loops are added allow_zero_in_degree should be false!\n",
      "  warnings.warn('If self loops are added allow_zero_in_degree should be false!')\n",
      "  0%|          | 0/200 [00:00<?, ?it/s]/Users/jan/anaconda3/envs/photonai_graph_test/lib/python3.9/site-packages/torch/autocast_mode.py:141: UserWarning: User provided device_type of 'cuda', but CUDA is not available. Disabling\n",
      "  warnings.warn('User provided device_type of \\'cuda\\', but CUDA is not available. Disabling')\n",
      "100%|██████████| 200/200 [00:34<00:00,  5.86it/s]\n",
      "/Users/jan/anaconda3/envs/photonai_graph_test/lib/python3.9/site-packages/sklearn/metrics/_classification.py:1318: UndefinedMetricWarning: Recall is ill-defined and being set to 0.0 due to no true samples. Use `zero_division` parameter to control this behavior.\n",
      "  _warn_prf(average, modifier, msg_start, len(result))\n",
      "/Users/jan/anaconda3/envs/photonai_graph_test/lib/python3.9/site-packages/sklearn/metrics/_classification.py:1318: UndefinedMetricWarning: Precision is ill-defined and being set to 0.0 due to no predicted samples. Use `zero_division` parameter to control this behavior.\n",
      "  _warn_prf(average, modifier, msg_start, len(result))\n",
      "/Users/jan/PycharmProjects/photonai_graph/photonai_graph/NeuralNets/dgl_base.py:68: UserWarning: If self loops are added allow_zero_in_degree should be false!\n",
      "  warnings.warn('If self loops are added allow_zero_in_degree should be false!')\n",
      "  0%|          | 0/200 [00:00<?, ?it/s]/Users/jan/anaconda3/envs/photonai_graph_test/lib/python3.9/site-packages/torch/autocast_mode.py:141: UserWarning: User provided device_type of 'cuda', but CUDA is not available. Disabling\n",
      "  warnings.warn('User provided device_type of \\'cuda\\', but CUDA is not available. Disabling')\n",
      "100%|██████████| 200/200 [00:33<00:00,  5.94it/s]\n",
      "/Users/jan/PycharmProjects/photonai_graph/photonai_graph/NeuralNets/dgl_base.py:68: UserWarning: If self loops are added allow_zero_in_degree should be false!\n",
      "  warnings.warn('If self loops are added allow_zero_in_degree should be false!')\n",
      "  0%|          | 0/200 [00:00<?, ?it/s]/Users/jan/anaconda3/envs/photonai_graph_test/lib/python3.9/site-packages/torch/autocast_mode.py:141: UserWarning: User provided device_type of 'cuda', but CUDA is not available. Disabling\n",
      "  warnings.warn('User provided device_type of \\'cuda\\', but CUDA is not available. Disabling')\n",
      "100%|██████████| 200/200 [00:33<00:00,  5.90it/s]\n"
     ]
    },
    {
     "name": "stdout",
     "output_type": "stream",
     "text": [
      "-----------------------------------------------------------------------------------------------------\n",
      "BEST_CONFIG \n",
      "-----------------------------------------------------------------------------------------------------\n",
      "{}\n",
      "-----------------------------------------------------------------------------------------------------\n",
      "VALIDATION PERFORMANCE\n",
      "-----------------------------------------------------------------------------------------------------\n",
      "+-------------------+-------------------+------------------+\n",
      "|       METRIC      | PERFORMANCE TRAIN | PERFORMANCE TEST |\n",
      "+-------------------+-------------------+------------------+\n",
      "|      accuracy     |       0.9978      |      0.9962      |\n",
      "| balanced_accuracy |       0.9976      |       nan        |\n",
      "|       recall      |       0.9972      |      0.3986      |\n",
      "|     precision     |       0.9960      |      0.4000      |\n",
      "+-------------------+-------------------+------------------+\n"
     ]
    },
    {
     "name": "stderr",
     "output_type": "stream",
     "text": [
      "/Users/jan/PycharmProjects/photonai_graph/photonai_graph/NeuralNets/dgl_base.py:68: UserWarning: If self loops are added allow_zero_in_degree should be false!\n",
      "  warnings.warn('If self loops are added allow_zero_in_degree should be false!')\n",
      "  0%|          | 0/200 [00:00<?, ?it/s]/Users/jan/anaconda3/envs/photonai_graph_test/lib/python3.9/site-packages/torch/autocast_mode.py:141: UserWarning: User provided device_type of 'cuda', but CUDA is not available. Disabling\n",
      "  warnings.warn('User provided device_type of \\'cuda\\', but CUDA is not available. Disabling')\n",
      "100%|██████████| 200/200 [00:42<00:00,  4.71it/s]\n"
     ]
    },
    {
     "name": "stdout",
     "output_type": "stream",
     "text": [
      "-----------------------------------------------------------------------------------------------------\n",
      "TEST PERFORMANCE\n",
      "-----------------------------------------------------------------------------------------------------\n",
      "+-------------------+-------------------+------------------+\n",
      "|       METRIC      | PERFORMANCE TRAIN | PERFORMANCE TEST |\n",
      "+-------------------+-------------------+------------------+\n",
      "|      accuracy     |       0.9938      |      1.0000      |\n",
      "| balanced_accuracy |       0.9950      |       nan        |\n",
      "|       recall      |       1.0000      |      1.0000      |\n",
      "|     precision     |       0.9836      |      1.0000      |\n",
      "+-------------------+-------------------+------------------+\n",
      "*****************************************************************************************************\n",
      "Finished all outer fold computations.\n"
     ]
    },
    {
     "name": "stderr",
     "output_type": "stream",
     "text": [
      "  0%|          | 0/200 [00:00<?, ?it/s]/Users/jan/anaconda3/envs/photonai_graph_test/lib/python3.9/site-packages/torch/autocast_mode.py:141: UserWarning: User provided device_type of 'cuda', but CUDA is not available. Disabling\n",
      "  warnings.warn('User provided device_type of \\'cuda\\', but CUDA is not available. Disabling')\n",
      "100%|██████████| 200/200 [00:54<00:00,  3.69it/s]"
     ]
    },
    {
     "name": "stdout",
     "output_type": "stream",
     "text": [
      "*****************************************************************************************************\n",
      "\n",
      "ANALYSIS INFORMATION ================================================================================ \n",
      "Project Folder: /Users/jan/PycharmProjects/photonai_graph/examples/LitmusTest/basic_gcn_pipe_results_2022-03-17_18-59-40,\n",
      "Computation Time: 2022-03-17 18:59:40.643688 - 2022-03-17 19:18:02.631121\n",
      "Duration: 0:18:21.987433\n",
      "Optimized for: accuracy\n",
      "Hyperparameter Optimizer: sk_opt\n",
      "\n",
      "DUMMY RESULTS =======================================================================================\n",
      "+-------------------+--+\n",
      "| PERFORMANCE DUMMY |  |\n",
      "+-------------------+--+\n",
      "+-------------------+--+\n",
      "\n",
      "AVERAGE PERFORMANCE ACROSS OUTER FOLDS ==============================================================\n",
      "+-------------------+---------------+--------------+-----------+----------+\n",
      "|    Metric Name    | Training Mean | Training Std | Test Mean | Test Std |\n",
      "+-------------------+---------------+--------------+-----------+----------+\n",
      "|      accuracy     |    0.99625    |   0.002092   |   0.997   |  0.004   |\n",
      "| balanced_accuracy |     0.9961    |   0.00256    |    nan    |   nan    |\n",
      "|       recall      |     0.9991    |   0.001114   |   0.599   | 0.489085 |\n",
      "|     precision     |    0.993177   |   0.005573   |    0.6    | 0.489898 |\n",
      "+-------------------+---------------+--------------+-----------+----------+\n",
      "\n",
      "BEST HYPERPARAMETER CONFIGURATION ===================================================================\n",
      "{}\n",
      "\n",
      "\n",
      "+--------+----------+-------------------+--------+-----------+----------------------------+\n",
      "| fold # | accuracy | balanced_accuracy | recall | precision | Best Hyperparameter Config |\n",
      "+--------+----------+-------------------+--------+-----------+----------------------------+\n",
      "|   1    |  0.9900  |        nan        | 0.0000 |   0.0000  |             {}             |\n",
      "|   2*   |  1.0000  |        nan        | 0.0000 |   0.0000  |             {}             |\n",
      "|   3    |  1.0000  |       1.0000      | 1.0000 |   1.0000  |             {}             |\n",
      "|   4    |  0.9950  |        nan        | 0.9950 |   1.0000  |             {}             |\n",
      "|   5    |  1.0000  |        nan        | 1.0000 |   1.0000  |             {}             |\n",
      "+--------+----------+-------------------+--------+-----------+----------------------------+\n",
      "\n",
      "PHOTONAI 2.2.0 ======================================================================================\n",
      "Your results are stored in /Users/jan/PycharmProjects/photonai_graph/examples/LitmusTest/basic_gcn_pipe_results_2022-03-17_18-59-40\n",
      "Go to https://explorer.photon-ai.com and upload your photon_result_file.json for convenient result visualization! \n",
      "For more info and documentation visit https://www.photon-ai.com\n"
     ]
    },
    {
     "name": "stderr",
     "output_type": "stream",
     "text": [
      "\n"
     ]
    },
    {
     "data": {
      "text/plain": [
       "Hyperpipe(name='basic_gcn_pipe')"
      ]
     },
     "execution_count": 5,
     "metadata": {},
     "output_type": "execute_result"
    }
   ],
   "source": [
    "my_pipe.fit(graphs, labels)"
   ]
  },
  {
   "cell_type": "markdown",
   "metadata": {},
   "source": [
    "As we can see, the task is solved with an accuracy of nearly 1, test passed."
   ]
  }
 ],
 "metadata": {
  "kernelspec": {
   "display_name": "Python 3 (ipykernel)",
   "language": "python",
   "name": "python3"
  },
  "language_info": {
   "codemirror_mode": {
    "name": "ipython",
    "version": 3
   },
   "file_extension": ".py",
   "mimetype": "text/x-python",
   "name": "python",
   "nbconvert_exporter": "python",
   "pygments_lexer": "ipython3",
   "version": "3.9.7"
  }
 },
 "nbformat": 4,
 "nbformat_minor": 1
}