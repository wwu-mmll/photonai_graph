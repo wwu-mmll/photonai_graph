{
 "cells": [
  {
   "cell_type": "markdown",
   "metadata": {
    "collapsed": true
   },
   "source": [
    "# Graph Embeding LEM Example\n",
    "\n",
    "This example will show you how to use the LEM graph embedding with a PHOTONAI Graph Pipeline\n",
    "\n",
    "At first we have to import the requirements"
   ]
  },
  {
   "cell_type": "code",
   "execution_count": 1,
   "metadata": {},
   "outputs": [],
   "source": [
    "from photonai.base import Hyperpipe, PipelineElement\n",
    "from photonai_graph.GraphUtilities import get_random_connectivity_data, get_random_labels\n",
    "from sklearn.model_selection import KFold"
   ]
  },
  {
   "cell_type": "markdown",
   "metadata": {},
   "source": [
    "Now we are able to generate some sample data for a classification"
   ]
  },
  {
   "cell_type": "code",
   "execution_count": 2,
   "metadata": {},
   "outputs": [],
   "source": [
    "# make random matrices to simulate connectivity matrices\n",
    "X = get_random_connectivity_data(number_of_nodes=50, number_of_individuals=100)\n",
    "y = get_random_labels(l_type=\"classification\", number_of_labels=100)"
   ]
  },
  {
   "cell_type": "markdown",
   "metadata": {},
   "source": [
    "The next step is the definition of our PHOTONAI pipeline"
   ]
  },
  {
   "cell_type": "code",
   "execution_count": 3,
   "metadata": {},
   "outputs": [
    {
     "name": "stderr",
     "output_type": "stream",
     "text": [
      "Using backend: pytorch\n"
     ]
    }
   ],
   "source": [
    "my_pipe = Hyperpipe('basic_gembedding_pipe',\n",
    "                    inner_cv=KFold(n_splits=5),\n",
    "                    outer_cv=KFold(n_splits=5),\n",
    "                    optimizer='sk_opt',\n",
    "                    optimizer_params={'n_configurations': 25},\n",
    "                    metrics=['accuracy', 'balanced_accuracy', 'recall', 'precision'],\n",
    "                    best_config_metric='accuracy')\n",
    "\n",
    "my_pipe.add(PipelineElement('GraphConstructorThreshold', threshold=0.95))\n",
    "\n",
    "my_pipe.add(PipelineElement('GraphEmbeddingLocallyLinearEmbedding'))\n",
    "\n",
    "my_pipe.add(PipelineElement('SVC'))"
   ]
  },
  {
   "cell_type": "markdown",
   "metadata": {},
   "source": [
    "Finally we can fit the pipeline"
   ]
  },
  {
   "cell_type": "code",
   "execution_count": 4,
   "metadata": {},
   "outputs": [
    {
     "name": "stdout",
     "output_type": "stream",
     "text": [
      "=====================================================================================================\n",
      "PHOTONAI ANALYSIS: basic_gembedding_pipe\n",
      "=====================================================================================================\n",
      "\n",
      "*****************************************************************************************************\n",
      "Outer Cross validation Fold 1\n",
      "*****************************************************************************************************\n",
      "Did not find any hyperparameter to convert into skopt space.\n"
     ]
    },
    {
     "name": "stderr",
     "output_type": "stream",
     "text": [
      "/Users/jan/anaconda3/envs/photonai_graph_test/lib/python3.9/site-packages/photonai/optimization/scikit_optimize/sk_opt.py:169: UserWarning: Did not find any hyperparameter to convert into skopt space.\n",
      "  warnings.warn(msg)\n"
     ]
    },
    {
     "name": "stdout",
     "output_type": "stream",
     "text": [
      "-----------------------------------------------------------------------------------------------------\n",
      "BEST_CONFIG \n",
      "-----------------------------------------------------------------------------------------------------\n",
      "{}\n",
      "-----------------------------------------------------------------------------------------------------\n",
      "VALIDATION PERFORMANCE\n",
      "-----------------------------------------------------------------------------------------------------\n",
      "+-------------------+-------------------+------------------+\n",
      "|       METRIC      | PERFORMANCE TRAIN | PERFORMANCE TEST |\n",
      "+-------------------+-------------------+------------------+\n",
      "|      accuracy     |       0.7188      |      0.4625      |\n",
      "| balanced_accuracy |       0.7065      |      0.4510      |\n",
      "|       recall      |       0.8645      |      0.7548      |\n",
      "|     precision     |       0.6906      |      0.5097      |\n",
      "+-------------------+-------------------+------------------+\n",
      "-----------------------------------------------------------------------------------------------------\n",
      "TEST PERFORMANCE\n",
      "-----------------------------------------------------------------------------------------------------\n",
      "+-------------------+-------------------+------------------+\n",
      "|       METRIC      | PERFORMANCE TRAIN | PERFORMANCE TEST |\n",
      "+-------------------+-------------------+------------------+\n",
      "|      accuracy     |       0.6750      |      0.4500      |\n",
      "| balanced_accuracy |       0.6637      |      0.5208      |\n",
      "|       recall      |       0.8140      |      0.8750      |\n",
      "|     precision     |       0.6604      |      0.4118      |\n",
      "+-------------------+-------------------+------------------+\n",
      "\n",
      "*****************************************************************************************************\n",
      "Outer Cross validation Fold 2\n",
      "*****************************************************************************************************\n",
      "Did not find any hyperparameter to convert into skopt space.\n"
     ]
    },
    {
     "name": "stderr",
     "output_type": "stream",
     "text": [
      "/Users/jan/anaconda3/envs/photonai_graph_test/lib/python3.9/site-packages/photonai/optimization/scikit_optimize/sk_opt.py:169: UserWarning: Did not find any hyperparameter to convert into skopt space.\n",
      "  warnings.warn(msg)\n"
     ]
    },
    {
     "name": "stdout",
     "output_type": "stream",
     "text": [
      "-----------------------------------------------------------------------------------------------------\n",
      "BEST_CONFIG \n",
      "-----------------------------------------------------------------------------------------------------\n",
      "{}\n",
      "-----------------------------------------------------------------------------------------------------\n",
      "VALIDATION PERFORMANCE\n",
      "-----------------------------------------------------------------------------------------------------\n",
      "+-------------------+-------------------+------------------+\n",
      "|       METRIC      | PERFORMANCE TRAIN | PERFORMANCE TEST |\n",
      "+-------------------+-------------------+------------------+\n",
      "|      accuracy     |       0.7000      |      0.4375      |\n",
      "| balanced_accuracy |       0.6906      |      0.5035      |\n",
      "|       recall      |       0.5947      |      0.4344      |\n",
      "|     precision     |       0.7426      |      0.4583      |\n",
      "+-------------------+-------------------+------------------+\n",
      "-----------------------------------------------------------------------------------------------------\n",
      "TEST PERFORMANCE\n",
      "-----------------------------------------------------------------------------------------------------\n",
      "+-------------------+-------------------+------------------+\n",
      "|       METRIC      | PERFORMANCE TRAIN | PERFORMANCE TEST |\n",
      "+-------------------+-------------------+------------------+\n",
      "|      accuracy     |       0.6750      |      0.4500      |\n",
      "| balanced_accuracy |       0.6723      |      0.4583      |\n",
      "|       recall      |       0.5641      |      0.4167      |\n",
      "|     precision     |       0.7097      |      0.5556      |\n",
      "+-------------------+-------------------+------------------+\n",
      "\n",
      "*****************************************************************************************************\n",
      "Outer Cross validation Fold 3\n",
      "*****************************************************************************************************\n",
      "Did not find any hyperparameter to convert into skopt space.\n"
     ]
    },
    {
     "name": "stderr",
     "output_type": "stream",
     "text": [
      "/Users/jan/anaconda3/envs/photonai_graph_test/lib/python3.9/site-packages/photonai/optimization/scikit_optimize/sk_opt.py:169: UserWarning: Did not find any hyperparameter to convert into skopt space.\n",
      "  warnings.warn(msg)\n"
     ]
    },
    {
     "name": "stdout",
     "output_type": "stream",
     "text": [
      "-----------------------------------------------------------------------------------------------------\n",
      "BEST_CONFIG \n",
      "-----------------------------------------------------------------------------------------------------\n",
      "{}\n",
      "-----------------------------------------------------------------------------------------------------\n",
      "VALIDATION PERFORMANCE\n",
      "-----------------------------------------------------------------------------------------------------\n",
      "+-------------------+-------------------+------------------+\n",
      "|       METRIC      | PERFORMANCE TRAIN | PERFORMANCE TEST |\n",
      "+-------------------+-------------------+------------------+\n",
      "|      accuracy     |       0.6875      |      0.3750      |\n",
      "| balanced_accuracy |       0.6778      |      0.3962      |\n",
      "|       recall      |       0.7550      |      0.6338      |\n",
      "|     precision     |       0.6772      |      0.4459      |\n",
      "+-------------------+-------------------+------------------+\n",
      "-----------------------------------------------------------------------------------------------------\n",
      "TEST PERFORMANCE\n",
      "-----------------------------------------------------------------------------------------------------\n",
      "+-------------------+-------------------+------------------+\n",
      "|       METRIC      | PERFORMANCE TRAIN | PERFORMANCE TEST |\n",
      "+-------------------+-------------------+------------------+\n",
      "|      accuracy     |       0.7750      |      0.2000      |\n",
      "| balanced_accuracy |       0.7694      |      0.2121      |\n",
      "|       recall      |       0.8810      |      0.3333      |\n",
      "|     precision     |       0.7400      |      0.2308      |\n",
      "+-------------------+-------------------+------------------+\n",
      "\n",
      "*****************************************************************************************************\n",
      "Outer Cross validation Fold 4\n",
      "*****************************************************************************************************\n",
      "Did not find any hyperparameter to convert into skopt space.\n"
     ]
    },
    {
     "name": "stderr",
     "output_type": "stream",
     "text": [
      "/Users/jan/anaconda3/envs/photonai_graph_test/lib/python3.9/site-packages/photonai/optimization/scikit_optimize/sk_opt.py:169: UserWarning: Did not find any hyperparameter to convert into skopt space.\n",
      "  warnings.warn(msg)\n"
     ]
    },
    {
     "name": "stdout",
     "output_type": "stream",
     "text": [
      "-----------------------------------------------------------------------------------------------------\n",
      "BEST_CONFIG \n",
      "-----------------------------------------------------------------------------------------------------\n",
      "{}\n",
      "-----------------------------------------------------------------------------------------------------\n",
      "VALIDATION PERFORMANCE\n",
      "-----------------------------------------------------------------------------------------------------\n",
      "+-------------------+-------------------+------------------+\n",
      "|       METRIC      | PERFORMANCE TRAIN | PERFORMANCE TEST |\n",
      "+-------------------+-------------------+------------------+\n",
      "|      accuracy     |       0.6625      |      0.4000      |\n",
      "| balanced_accuracy |       0.6599      |      0.4284      |\n",
      "|       recall      |       0.6350      |      0.2922      |\n",
      "|     precision     |       0.6640      |      0.3683      |\n",
      "+-------------------+-------------------+------------------+\n",
      "-----------------------------------------------------------------------------------------------------\n",
      "TEST PERFORMANCE\n",
      "-----------------------------------------------------------------------------------------------------\n",
      "+-------------------+-------------------+------------------+\n",
      "|       METRIC      | PERFORMANCE TRAIN | PERFORMANCE TEST |\n",
      "+-------------------+-------------------+------------------+\n",
      "|      accuracy     |       0.7250      |      0.4000      |\n",
      "| balanced_accuracy |       0.7236      |      0.4375      |\n",
      "|       recall      |       0.6667      |      0.2500      |\n",
      "|     precision     |       0.7429      |      0.5000      |\n",
      "+-------------------+-------------------+------------------+\n",
      "\n",
      "*****************************************************************************************************\n",
      "Outer Cross validation Fold 5\n",
      "*****************************************************************************************************\n",
      "Did not find any hyperparameter to convert into skopt space.\n"
     ]
    },
    {
     "name": "stderr",
     "output_type": "stream",
     "text": [
      "/Users/jan/anaconda3/envs/photonai_graph_test/lib/python3.9/site-packages/photonai/optimization/scikit_optimize/sk_opt.py:169: UserWarning: Did not find any hyperparameter to convert into skopt space.\n",
      "  warnings.warn(msg)\n"
     ]
    },
    {
     "name": "stdout",
     "output_type": "stream",
     "text": [
      "-----------------------------------------------------------------------------------------------------\n",
      "BEST_CONFIG \n",
      "-----------------------------------------------------------------------------------------------------\n",
      "{}\n",
      "-----------------------------------------------------------------------------------------------------\n",
      "VALIDATION PERFORMANCE\n",
      "-----------------------------------------------------------------------------------------------------\n",
      "+-------------------+-------------------+------------------+\n",
      "|       METRIC      | PERFORMANCE TRAIN | PERFORMANCE TEST |\n",
      "+-------------------+-------------------+------------------+\n",
      "|      accuracy     |       0.7188      |      0.4875      |\n",
      "| balanced_accuracy |       0.7089      |      0.5645      |\n",
      "|       recall      |       0.7702      |      0.6361      |\n",
      "|     precision     |       0.7011      |      0.6088      |\n",
      "+-------------------+-------------------+------------------+\n",
      "-----------------------------------------------------------------------------------------------------\n",
      "TEST PERFORMANCE\n",
      "-----------------------------------------------------------------------------------------------------\n",
      "+-------------------+-------------------+------------------+\n",
      "|       METRIC      | PERFORMANCE TRAIN | PERFORMANCE TEST |\n",
      "+-------------------+-------------------+------------------+\n",
      "|      accuracy     |       0.7125      |      0.3500      |\n",
      "| balanced_accuracy |       0.7145      |      0.3500      |\n",
      "|       recall      |       0.6341      |      0.5000      |\n",
      "|     precision     |       0.7647      |      0.3846      |\n",
      "+-------------------+-------------------+------------------+\n",
      "*****************************************************************************************************\n",
      "Finished all outer fold computations.\n",
      "*****************************************************************************************************\n",
      "\n",
      "ANALYSIS INFORMATION ================================================================================ \n",
      "Project Folder: /Users/jan/PycharmProjects/photonai_graph/examples/embeding_examples/basic_gembedding_pipe_results_2022-03-17_09-39-12,\n",
      "Computation Time: 2022-03-17 09:39:12.844667 - 2022-03-17 09:40:11.639869\n",
      "Duration: 0:00:58.795202\n",
      "Optimized for: accuracy\n",
      "Hyperparameter Optimizer: sk_opt\n",
      "\n",
      "DUMMY RESULTS =======================================================================================\n",
      "+-------------------+--+\n",
      "| PERFORMANCE DUMMY |  |\n",
      "+-------------------+--+\n",
      "+-------------------+--+\n",
      "\n",
      "AVERAGE PERFORMANCE ACROSS OUTER FOLDS ==============================================================\n",
      "+-------------------+---------------+--------------+-----------+----------+\n",
      "|    Metric Name    | Training Mean | Training Std | Test Mean | Test Std |\n",
      "+-------------------+---------------+--------------+-----------+----------+\n",
      "|      accuracy     |     0.7125    |   0.037081   |    0.37   | 0.092736 |\n",
      "| balanced_accuracy |    0.708708   |   0.038183   |  0.395758 | 0.106881 |\n",
      "|       recall      |    0.711964   |   0.117413   |   0.475   | 0.216667 |\n",
      "|     precision     |    0.723524   |   0.036112   |  0.416541 | 0.111215 |\n",
      "+-------------------+---------------+--------------+-----------+----------+\n",
      "\n",
      "BEST HYPERPARAMETER CONFIGURATION ===================================================================\n",
      "{}\n",
      "\n",
      "\n",
      "+--------+----------+-------------------+--------+-----------+----------------------------+\n",
      "| fold # | accuracy | balanced_accuracy | recall | precision | Best Hyperparameter Config |\n",
      "+--------+----------+-------------------+--------+-----------+----------------------------+\n",
      "|   1*   |  0.4500  |       0.5208      | 0.8750 |   0.4118  |             {}             |\n",
      "|   2    |  0.4500  |       0.4583      | 0.4167 |   0.5556  |             {}             |\n",
      "|   3    |  0.2000  |       0.2121      | 0.3333 |   0.2308  |             {}             |\n",
      "|   4    |  0.4000  |       0.4375      | 0.2500 |   0.5000  |             {}             |\n",
      "|   5    |  0.3500  |       0.3500      | 0.5000 |   0.3846  |             {}             |\n",
      "+--------+----------+-------------------+--------+-----------+----------------------------+\n",
      "\n",
      "PHOTONAI 2.2.0 ======================================================================================\n",
      "Your results are stored in /Users/jan/PycharmProjects/photonai_graph/examples/embeding_examples/basic_gembedding_pipe_results_2022-03-17_09-39-12\n",
      "Go to https://explorer.photon-ai.com and upload your photon_result_file.json for convenient result visualization! \n",
      "For more info and documentation visit https://www.photon-ai.com\n"
     ]
    },
    {
     "data": {
      "text/plain": [
       "Hyperpipe(name='basic_gembedding_pipe')"
      ]
     },
     "execution_count": 4,
     "metadata": {},
     "output_type": "execute_result"
    }
   ],
   "source": [
    "my_pipe.fit(X, y)"
   ]
  }
 ],
 "metadata": {
  "kernelspec": {
   "display_name": "Python 3 (ipykernel)",
   "language": "python",
   "name": "python3"
  },
  "language_info": {
   "codemirror_mode": {
    "name": "ipython",
    "version": 3
   },
   "file_extension": ".py",
   "mimetype": "text/x-python",
   "name": "python",
   "nbconvert_exporter": "python",
   "pygments_lexer": "ipython3",
   "version": "3.9.7"
  }
 },
 "nbformat": 4,
 "nbformat_minor": 1
}
