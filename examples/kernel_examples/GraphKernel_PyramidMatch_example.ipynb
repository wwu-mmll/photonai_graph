{
 "cells": [
  {
   "cell_type": "markdown",
   "metadata": {
    "collapsed": true,
    "pycharm": {
     "name": "#%% md\n"
    }
   },
   "source": [
    "# Graph Kernel Pyramid Match example"
   ]
  },
  {
   "cell_type": "code",
   "execution_count": 1,
   "metadata": {
    "pycharm": {
     "is_executing": true,
     "name": "#%%\n"
    }
   },
   "outputs": [],
   "source": [
    "from photonai.base import Hyperpipe, PipelineElement\n",
    "from photonai_graph.GraphUtilities import get_random_connectivity_data, get_random_labels\n",
    "from sklearn.model_selection import KFold"
   ]
  },
  {
   "cell_type": "markdown",
   "metadata": {
    "pycharm": {
     "name": "#%% md\n"
    }
   },
   "source": [
    "Generate random matrices to simulate connectivity matrices"
   ]
  },
  {
   "cell_type": "code",
   "execution_count": 2,
   "metadata": {
    "pycharm": {
     "name": "#%%\n"
    }
   },
   "outputs": [],
   "source": [
    "X = get_random_connectivity_data(number_of_nodes=50, number_of_individuals=200)\n",
    "y = get_random_labels(l_type=\"classification\", number_of_labels=200)\n",
    "\n",
    "# Design your Pipeline"
   ]
  },
  {
   "cell_type": "markdown",
   "metadata": {
    "pycharm": {
     "name": "#%% md\n"
    }
   },
   "source": [
    "Design your Pipeline"
   ]
  },
  {
   "cell_type": "code",
   "execution_count": 3,
   "metadata": {
    "pycharm": {
     "name": "#%%\n"
    }
   },
   "outputs": [
    {
     "name": "stderr",
     "output_type": "stream",
     "text": [
      "Using backend: pytorch\n"
     ]
    }
   ],
   "source": [
    "my_pipe = Hyperpipe('basic_kernel_pipe',\n",
    "                    inner_cv=KFold(n_splits=5),\n",
    "                    outer_cv=KFold(n_splits=5),\n",
    "                    optimizer='grid_search',\n",
    "                    metrics=['accuracy', 'balanced_accuracy', 'recall', 'precision'],\n",
    "                    best_config_metric='accuracy')\n",
    "\n",
    "my_pipe.add(PipelineElement('GraphConstructorThreshold', threshold=0.95))\n",
    "\n",
    "my_pipe.add(PipelineElement('GrakelAdapter', node_feature_construction=\"sum\"))\n",
    "\n",
    "my_pipe.add(PipelineElement('GrakelTransformer', transformation='PyramidMatch'))\n",
    "\n",
    "my_pipe.add(PipelineElement(\"SVC\", kernel='precomputed'))"
   ]
  },
  {
   "cell_type": "markdown",
   "metadata": {
    "pycharm": {
     "name": "#%% md\n"
    }
   },
   "source": [
    "Finally fit the pipeline to our data"
   ]
  },
  {
   "cell_type": "code",
   "execution_count": 4,
   "metadata": {
    "pycharm": {
     "name": "#%%\n"
    }
   },
   "outputs": [
    {
     "name": "stdout",
     "output_type": "stream",
     "text": [
      "=====================================================================================================\n",
      "PHOTONAI ANALYSIS: basic_kernel_pipe\n",
      "=====================================================================================================\n",
      "JsonTransformer was unable to create the .json file.\n",
      "\n",
      "*****************************************************************************************************\n",
      "Outer Cross validation Fold 1\n",
      "*****************************************************************************************************\n"
     ]
    },
    {
     "name": "stderr",
     "output_type": "stream",
     "text": [
      "/Users/jan/anaconda3/envs/photonai_graph_test/lib/python3.9/site-packages/photonai/base/hyperpipe.py:814: UserWarning: JsonTransformer was unable to create the .json file.\n",
      "  warnings.warn(msg)\n",
      "/Users/jan/anaconda3/envs/photonai_graph_test/lib/python3.9/site-packages/sklearn/metrics/_classification.py:1318: UndefinedMetricWarning: Precision is ill-defined and being set to 0.0 due to no predicted samples. Use `zero_division` parameter to control this behavior.\n",
      "  _warn_prf(average, modifier, msg_start, len(result))\n",
      "/Users/jan/anaconda3/envs/photonai_graph_test/lib/python3.9/site-packages/sklearn/metrics/_classification.py:1318: UndefinedMetricWarning: Precision is ill-defined and being set to 0.0 due to no predicted samples. Use `zero_division` parameter to control this behavior.\n",
      "  _warn_prf(average, modifier, msg_start, len(result))\n"
     ]
    },
    {
     "name": "stdout",
     "output_type": "stream",
     "text": [
      "-----------------------------------------------------------------------------------------------------\n",
      "BEST_CONFIG \n",
      "-----------------------------------------------------------------------------------------------------\n",
      "{}\n",
      "-----------------------------------------------------------------------------------------------------\n",
      "VALIDATION PERFORMANCE\n",
      "-----------------------------------------------------------------------------------------------------\n",
      "+-------------------+-------------------+------------------+\n",
      "|       METRIC      | PERFORMANCE TRAIN | PERFORMANCE TEST |\n",
      "+-------------------+-------------------+------------------+\n",
      "|      accuracy     |       1.0000      |      0.4250      |\n",
      "| balanced_accuracy |       1.0000      |      0.5000      |\n",
      "|       recall      |       1.0000      |      0.6000      |\n",
      "|     precision     |       1.0000      |      0.2687      |\n",
      "+-------------------+-------------------+------------------+\n",
      "-----------------------------------------------------------------------------------------------------\n",
      "TEST PERFORMANCE\n",
      "-----------------------------------------------------------------------------------------------------\n",
      "+-------------------+-------------------+------------------+\n",
      "|       METRIC      | PERFORMANCE TRAIN | PERFORMANCE TEST |\n",
      "+-------------------+-------------------+------------------+\n",
      "|      accuracy     |       1.0000      |      0.5250      |\n",
      "| balanced_accuracy |       1.0000      |      0.5000      |\n",
      "|       recall      |       1.0000      |      1.0000      |\n",
      "|     precision     |       1.0000      |      0.5250      |\n",
      "+-------------------+-------------------+------------------+\n",
      "\n",
      "*****************************************************************************************************\n",
      "Outer Cross validation Fold 2\n",
      "*****************************************************************************************************\n"
     ]
    },
    {
     "name": "stderr",
     "output_type": "stream",
     "text": [
      "/Users/jan/anaconda3/envs/photonai_graph_test/lib/python3.9/site-packages/sklearn/metrics/_classification.py:1318: UndefinedMetricWarning: Precision is ill-defined and being set to 0.0 due to no predicted samples. Use `zero_division` parameter to control this behavior.\n",
      "  _warn_prf(average, modifier, msg_start, len(result))\n",
      "/Users/jan/anaconda3/envs/photonai_graph_test/lib/python3.9/site-packages/sklearn/metrics/_classification.py:1318: UndefinedMetricWarning: Precision is ill-defined and being set to 0.0 due to no predicted samples. Use `zero_division` parameter to control this behavior.\n",
      "  _warn_prf(average, modifier, msg_start, len(result))\n",
      "/Users/jan/anaconda3/envs/photonai_graph_test/lib/python3.9/site-packages/sklearn/metrics/_classification.py:1318: UndefinedMetricWarning: Precision is ill-defined and being set to 0.0 due to no predicted samples. Use `zero_division` parameter to control this behavior.\n",
      "  _warn_prf(average, modifier, msg_start, len(result))\n"
     ]
    },
    {
     "name": "stdout",
     "output_type": "stream",
     "text": [
      "-----------------------------------------------------------------------------------------------------\n",
      "BEST_CONFIG \n",
      "-----------------------------------------------------------------------------------------------------\n",
      "{}\n",
      "-----------------------------------------------------------------------------------------------------\n",
      "VALIDATION PERFORMANCE\n",
      "-----------------------------------------------------------------------------------------------------\n",
      "+-------------------+-------------------+------------------+\n",
      "|       METRIC      | PERFORMANCE TRAIN | PERFORMANCE TEST |\n",
      "+-------------------+-------------------+------------------+\n",
      "|      accuracy     |       1.0000      |      0.4125      |\n",
      "| balanced_accuracy |       1.0000      |      0.5000      |\n",
      "|       recall      |       1.0000      |      0.4000      |\n",
      "|     precision     |       1.0000      |      0.1562      |\n",
      "+-------------------+-------------------+------------------+\n",
      "-----------------------------------------------------------------------------------------------------\n",
      "TEST PERFORMANCE\n",
      "-----------------------------------------------------------------------------------------------------\n",
      "+-------------------+-------------------+------------------+\n",
      "|       METRIC      | PERFORMANCE TRAIN | PERFORMANCE TEST |\n",
      "+-------------------+-------------------+------------------+\n",
      "|      accuracy     |       1.0000      |      0.5750      |\n",
      "| balanced_accuracy |       1.0000      |      0.5000      |\n",
      "|       recall      |       1.0000      |      1.0000      |\n",
      "|     precision     |       1.0000      |      0.5750      |\n",
      "+-------------------+-------------------+------------------+\n",
      "\n",
      "*****************************************************************************************************\n",
      "Outer Cross validation Fold 3\n",
      "*****************************************************************************************************\n",
      "-----------------------------------------------------------------------------------------------------\n",
      "BEST_CONFIG \n",
      "-----------------------------------------------------------------------------------------------------\n",
      "{}\n",
      "-----------------------------------------------------------------------------------------------------\n",
      "VALIDATION PERFORMANCE\n",
      "-----------------------------------------------------------------------------------------------------\n",
      "+-------------------+-------------------+------------------+\n",
      "|       METRIC      | PERFORMANCE TRAIN | PERFORMANCE TEST |\n",
      "+-------------------+-------------------+------------------+\n",
      "|      accuracy     |       1.0000      |      0.5625      |\n",
      "| balanced_accuracy |       1.0000      |      0.5000      |\n",
      "|       recall      |       1.0000      |      1.0000      |\n",
      "|     precision     |       1.0000      |      0.5625      |\n",
      "+-------------------+-------------------+------------------+\n",
      "-----------------------------------------------------------------------------------------------------\n",
      "TEST PERFORMANCE\n",
      "-----------------------------------------------------------------------------------------------------\n",
      "+-------------------+-------------------+------------------+\n",
      "|       METRIC      | PERFORMANCE TRAIN | PERFORMANCE TEST |\n",
      "+-------------------+-------------------+------------------+\n",
      "|      accuracy     |       1.0000      |      0.3250      |\n",
      "| balanced_accuracy |       1.0000      |      0.5000      |\n",
      "|       recall      |       1.0000      |      1.0000      |\n",
      "|     precision     |       1.0000      |      0.3250      |\n",
      "+-------------------+-------------------+------------------+\n",
      "\n",
      "*****************************************************************************************************\n",
      "Outer Cross validation Fold 4\n",
      "*****************************************************************************************************\n"
     ]
    },
    {
     "name": "stderr",
     "output_type": "stream",
     "text": [
      "/Users/jan/anaconda3/envs/photonai_graph_test/lib/python3.9/site-packages/sklearn/metrics/_classification.py:1318: UndefinedMetricWarning: Precision is ill-defined and being set to 0.0 due to no predicted samples. Use `zero_division` parameter to control this behavior.\n",
      "  _warn_prf(average, modifier, msg_start, len(result))\n",
      "/Users/jan/anaconda3/envs/photonai_graph_test/lib/python3.9/site-packages/sklearn/metrics/_classification.py:1318: UndefinedMetricWarning: Precision is ill-defined and being set to 0.0 due to no predicted samples. Use `zero_division` parameter to control this behavior.\n",
      "  _warn_prf(average, modifier, msg_start, len(result))\n"
     ]
    },
    {
     "name": "stdout",
     "output_type": "stream",
     "text": [
      "-----------------------------------------------------------------------------------------------------\n",
      "BEST_CONFIG \n",
      "-----------------------------------------------------------------------------------------------------\n",
      "{}\n",
      "-----------------------------------------------------------------------------------------------------\n",
      "VALIDATION PERFORMANCE\n",
      "-----------------------------------------------------------------------------------------------------\n",
      "+-------------------+-------------------+------------------+\n",
      "|       METRIC      | PERFORMANCE TRAIN | PERFORMANCE TEST |\n",
      "+-------------------+-------------------+------------------+\n",
      "|      accuracy     |       1.0000      |      0.4062      |\n",
      "| balanced_accuracy |       1.0000      |      0.5000      |\n",
      "|       recall      |       1.0000      |      0.6000      |\n",
      "|     precision     |       1.0000      |      0.2562      |\n",
      "+-------------------+-------------------+------------------+\n",
      "-----------------------------------------------------------------------------------------------------\n",
      "TEST PERFORMANCE\n",
      "-----------------------------------------------------------------------------------------------------\n",
      "+-------------------+-------------------+------------------+\n",
      "|       METRIC      | PERFORMANCE TRAIN | PERFORMANCE TEST |\n",
      "+-------------------+-------------------+------------------+\n",
      "|      accuracy     |       1.0000      |      0.5500      |\n",
      "| balanced_accuracy |       1.0000      |      0.5000      |\n",
      "|       recall      |       1.0000      |      1.0000      |\n",
      "|     precision     |       1.0000      |      0.5500      |\n",
      "+-------------------+-------------------+------------------+\n",
      "\n",
      "*****************************************************************************************************\n",
      "Outer Cross validation Fold 5\n",
      "*****************************************************************************************************\n"
     ]
    },
    {
     "name": "stderr",
     "output_type": "stream",
     "text": [
      "/Users/jan/anaconda3/envs/photonai_graph_test/lib/python3.9/site-packages/sklearn/metrics/_classification.py:1318: UndefinedMetricWarning: Precision is ill-defined and being set to 0.0 due to no predicted samples. Use `zero_division` parameter to control this behavior.\n",
      "  _warn_prf(average, modifier, msg_start, len(result))\n",
      "/Users/jan/anaconda3/envs/photonai_graph_test/lib/python3.9/site-packages/sklearn/metrics/_classification.py:1318: UndefinedMetricWarning: Precision is ill-defined and being set to 0.0 due to no predicted samples. Use `zero_division` parameter to control this behavior.\n",
      "  _warn_prf(average, modifier, msg_start, len(result))\n",
      "/Users/jan/anaconda3/envs/photonai_graph_test/lib/python3.9/site-packages/sklearn/metrics/_classification.py:1318: UndefinedMetricWarning: Precision is ill-defined and being set to 0.0 due to no predicted samples. Use `zero_division` parameter to control this behavior.\n",
      "  _warn_prf(average, modifier, msg_start, len(result))\n"
     ]
    },
    {
     "name": "stdout",
     "output_type": "stream",
     "text": [
      "-----------------------------------------------------------------------------------------------------\n",
      "BEST_CONFIG \n",
      "-----------------------------------------------------------------------------------------------------\n",
      "{}\n",
      "-----------------------------------------------------------------------------------------------------\n",
      "VALIDATION PERFORMANCE\n",
      "-----------------------------------------------------------------------------------------------------\n",
      "+-------------------+-------------------+------------------+\n",
      "|       METRIC      | PERFORMANCE TRAIN | PERFORMANCE TEST |\n",
      "+-------------------+-------------------+------------------+\n",
      "|      accuracy     |       1.0000      |      0.4313      |\n",
      "| balanced_accuracy |       1.0000      |      0.5000      |\n",
      "|       recall      |       1.0000      |      0.4000      |\n",
      "|     precision     |       1.0000      |      0.1625      |\n",
      "+-------------------+-------------------+------------------+\n"
     ]
    },
    {
     "name": "stderr",
     "output_type": "stream",
     "text": [
      "/Users/jan/anaconda3/envs/photonai_graph_test/lib/python3.9/site-packages/sklearn/metrics/_classification.py:1318: UndefinedMetricWarning: Precision is ill-defined and being set to 0.0 due to no predicted samples. Use `zero_division` parameter to control this behavior.\n",
      "  _warn_prf(average, modifier, msg_start, len(result))\n"
     ]
    },
    {
     "name": "stdout",
     "output_type": "stream",
     "text": [
      "-----------------------------------------------------------------------------------------------------\n",
      "TEST PERFORMANCE\n",
      "-----------------------------------------------------------------------------------------------------\n",
      "+-------------------+-------------------+------------------+\n",
      "|       METRIC      | PERFORMANCE TRAIN | PERFORMANCE TEST |\n",
      "+-------------------+-------------------+------------------+\n",
      "|      accuracy     |       1.0000      |      0.4000      |\n",
      "| balanced_accuracy |       1.0000      |      0.5000      |\n",
      "|       recall      |       1.0000      |      0.0000      |\n",
      "|     precision     |       1.0000      |      0.0000      |\n",
      "+-------------------+-------------------+------------------+\n",
      "*****************************************************************************************************\n",
      "Finished all outer fold computations.\n",
      "Custom pipeline element must implement .save() method or allow pickle.\n",
      "*****************************************************************************************************\n",
      "\n",
      "ANALYSIS INFORMATION ================================================================================ \n",
      "Project Folder: /Users/jan/PycharmProjects/photonai_graph/examples/kernel_examples/basic_kernel_pipe_results_2022-03-29_22-31-22,\n",
      "Computation Time: 2022-03-29 22:31:22.127919 - 2022-03-29 22:53:06.007463\n",
      "Duration: 0:21:43.879544\n",
      "Optimized for: accuracy\n",
      "Hyperparameter Optimizer: grid_search\n",
      "\n",
      "DUMMY RESULTS =======================================================================================\n",
      "+-------------------+--+\n",
      "| PERFORMANCE DUMMY |  |\n",
      "+-------------------+--+\n",
      "+-------------------+--+\n",
      "\n",
      "AVERAGE PERFORMANCE ACROSS OUTER FOLDS ==============================================================\n",
      "+-------------------+---------------+--------------+-----------+----------+\n",
      "|    Metric Name    | Training Mean | Training Std | Test Mean | Test Std |\n",
      "+-------------------+---------------+--------------+-----------+----------+\n",
      "|      accuracy     |      1.0      |     0.0      |   0.475   | 0.096177 |\n",
      "| balanced_accuracy |      1.0      |     0.0      |    0.5    |   0.0    |\n",
      "|       recall      |      1.0      |     0.0      |    0.8    |   0.4    |\n",
      "|     precision     |      1.0      |     0.0      |   0.395   | 0.216449 |\n",
      "+-------------------+---------------+--------------+-----------+----------+\n",
      "\n",
      "BEST HYPERPARAMETER CONFIGURATION ===================================================================\n",
      "{}\n",
      "\n",
      "\n",
      "+--------+----------+-------------------+--------+-----------+----------------------------+\n",
      "| fold # | accuracy | balanced_accuracy | recall | precision | Best Hyperparameter Config |\n",
      "+--------+----------+-------------------+--------+-----------+----------------------------+\n",
      "|   1    |  0.5250  |       0.5000      | 1.0000 |   0.5250  |             {}             |\n",
      "|   2*   |  0.5750  |       0.5000      | 1.0000 |   0.5750  |             {}             |\n",
      "|   3    |  0.3250  |       0.5000      | 1.0000 |   0.3250  |             {}             |\n",
      "|   4    |  0.5500  |       0.5000      | 1.0000 |   0.5500  |             {}             |\n",
      "|   5    |  0.4000  |       0.5000      | 0.0000 |   0.0000  |             {}             |\n",
      "+--------+----------+-------------------+--------+-----------+----------------------------+\n",
      "\n",
      "PHOTONAI 2.2.0 ======================================================================================\n",
      "Your results are stored in /Users/jan/PycharmProjects/photonai_graph/examples/kernel_examples/basic_kernel_pipe_results_2022-03-29_22-31-22\n",
      "Go to https://explorer.photon-ai.com and upload your photon_result_file.json for convenient result visualization! \n",
      "For more info and documentation visit https://www.photon-ai.com\n"
     ]
    },
    {
     "data": {
      "text/plain": [
       "Hyperpipe(name='basic_kernel_pipe')"
      ]
     },
     "execution_count": 4,
     "metadata": {},
     "output_type": "execute_result"
    }
   ],
   "source": [
    "my_pipe.fit(X, y)"
   ]
  }
 ],
 "metadata": {
  "kernelspec": {
   "display_name": "Python 3 (ipykernel)",
   "language": "python",
   "name": "python3"
  },
  "language_info": {
   "codemirror_mode": {
    "name": "ipython",
    "version": 3
   },
   "file_extension": ".py",
   "mimetype": "text/x-python",
   "name": "python",
   "nbconvert_exporter": "python",
   "pygments_lexer": "ipython3",
   "version": "3.9.7"
  }
 },
 "nbformat": 4,
 "nbformat_minor": 1
}